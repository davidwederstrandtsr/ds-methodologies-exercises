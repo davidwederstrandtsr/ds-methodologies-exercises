{
 "cells": [
  {
   "cell_type": "markdown",
   "metadata": {},
   "source": [
    "Each scaler function should create the object, fit and transform both train and test. \n",
    "They should return the scaler, train dataframe scaled, test dataframe scaled. \n",
    "Be sure your indices represent the original indices from train\\/test, as those represent the indices from the original dataframe. \n",
    "Be sure to set a random state where applicable for reproducibility!\n",
    " \n",
    "- **split_my_data(X, y, train_pct)**\n",
    "- **standard_scaler()**\n",
    "- **scale_inverse()**\n",
    "- **uniform_scaler()**\n",
    "- **gaussian_scaler()**\n",
    "- **min_max_scaler()**\n",
    "- **iqr_robust_scaler()**"
   ]
  },
  {
   "cell_type": "code",
   "execution_count": 1,
   "metadata": {},
   "outputs": [],
   "source": [
    "import pandas as pd\n",
    "import numpy as np\n",
    "import sklearn.preprocessing\n",
    "\n",
    "from sklearn.preprocessing import StandardScaler, QuantileTransformer, PowerTransformer, RobustScaler, MinMaxScaler\n",
    "from sklearn.model_selection import train_test_split"
   ]
  },
  {
   "cell_type": "markdown",
   "metadata": {},
   "source": [
    "### Train Test Split\n",
    "- split the df into train and test\n",
    "- train will be used to develop the model\n",
    "- test will be used to ensure train_model efficiency"
   ]
  },
  {
   "cell_type": "code",
   "execution_count": 2,
   "metadata": {},
   "outputs": [],
   "source": [
    "# this will return X_train, X_test, y_train, y_test\n",
    "def split_my_data(X, y, train_pct):\n",
    "    return train_test_split(X, y, test_size=train_pct)"
   ]
  },
  {
   "cell_type": "markdown",
   "metadata": {},
   "source": [
    "### Standard Scaler\n",
    "# - Scale to Standard Normal Distribution (mean=0, stdev=1)"
   ]
  },
  {
   "cell_type": "code",
   "execution_count": 3,
   "metadata": {},
   "outputs": [],
   "source": [
    "# standard_scaler returns the thing \"fit\"\n",
    "def standard_scaler(train, test):\n",
    "    # create standard scaler object & fit\n",
    "    scaler = StandardScaler(copy=True, with_mean=True, with_std=True).fit(train)\n",
    "    # transform train\n",
    "    train_scaled = pd.DataFrame(scaler.transform(train), columns=train.columns.values).set_index([train.index.values])\n",
    "    # transform test\n",
    "    test_scaled = pd.DataFrame(scaler.transform(test), columns=test.columns.values).set_index([test.index.values])\n",
    "    \n",
    "    return train_scaled, test_scaled, scaler"
   ]
  },
  {
   "cell_type": "markdown",
   "metadata": {},
   "source": [
    "### Scale Inverse \n",
    "- will return the df with its values reverted back to their original form"
   ]
  },
  {
   "cell_type": "code",
   "execution_count": 4,
   "metadata": {},
   "outputs": [],
   "source": [
    "# revert the scaled back to original\n",
    "def scale_inverse(train, test, scaler):\n",
    "    # return to original values:\n",
    "    train_unscaled = pd.DataFrame(scaler.inverse_transform(train), columns=train.columns.values).set_index([train.index.values])\n",
    "    test_unscaled = pd.DataFrame(scaler.inverse_transform(test), columns=test.columns.values).set_index([test.index.values])\n",
    "    \n",
    "    return train_unscaled, test_unscaled"
   ]
  },
  {
   "cell_type": "code",
   "execution_count": 5,
   "metadata": {},
   "outputs": [],
   "source": [
    "def uniform_scaler(train, test):  \n",
    "    # create uniform scaler object and fit to train\n",
    "    scaler = QuantileTransformer(n_quantiles=100, output_distribution='uniform', random_state=123, copy=True).fit(train)\n",
    "    # apply to train\n",
    "    train_scaled = pd.DataFrame(scaler.transform(train), columns=train.columns.values).set_index([train.index.values])\n",
    "    # apply to test\n",
    "    test_scaled = pd.DataFrame(scaler.transform(test), columns=test.columns.values).set_index([test.index.values])\n",
    "    \n",
    "    return train_scaled, test_scaled, scaler"
   ]
  },
  {
   "cell_type": "code",
   "execution_count": 6,
   "metadata": {},
   "outputs": [],
   "source": [
    "def gaussian_scaler(train, test):\n",
    "    # create scaler object using yeo-johnson method and fit to train\n",
    "    scaler = PowerTransformer(method='yeo-johnson', standardize=False, copy=True).fit(train)\n",
    "    # apply to train\n",
    "    train_scaled = pd.DataFrame(scaler.transform(train), columns=train.columns.values).set_index([train.index.values])\n",
    "    # apply to test\n",
    "    test_scaled = pd.DataFrame(scaler.transform(test), columns=test.columns.values).set_index([test.index.values])\n",
    "\n",
    "    return train_scaled, test_scaled, scaler"
   ]
  },
  {
   "cell_type": "code",
   "execution_count": 7,
   "metadata": {},
   "outputs": [],
   "source": [
    "def min_max_scaler(train, test):\n",
    "    # create scaler for the min and max \n",
    "    scaler = MinMaxScaler(copy=True, feature_range=(0,1)).fit(train)\n",
    "    # apply to train\n",
    "    train_scaled = pd.DataFrame(scaler.transform(train), columns=train.columns.values).set_index([train.index.values])\n",
    "    # apply to test\n",
    "    test_scaled = pd.DataFrame(scaler.transform(test), columns=test.columns.values).set_index([test.index.values])\n",
    "\n",
    "    return train_scaled, test_scaled, scaler"
   ]
  },
  {
   "cell_type": "code",
   "execution_count": 8,
   "metadata": {},
   "outputs": [],
   "source": [
    "def iqr_robust_scaler(train, test):\n",
    "    # create a robust scaler \n",
    "    scaler = RobustScaler(quantile_range=(25.0,75.0), copy=True, with_centering=True, with_scaling=True).fit(train)\n",
    "    # apply to train\n",
    "    train_scaled = pd.DataFrame(scaler.transform(train), columns=train.columns.values).set_index([train.index.values])\n",
    "    # apply to test\n",
    "    test_scaled = pd.DataFrame(scaler.transform(test), columns=test.columns.values).set_index([test.index.values])\n",
    "\n",
    "    return train_scaled, test_scaled, scaler"
   ]
  }
 ],
 "metadata": {
  "kernelspec": {
   "display_name": "Python 3",
   "language": "python",
   "name": "python3"
  },
  "language_info": {
   "codemirror_mode": {
    "name": "ipython",
    "version": 3
   },
   "file_extension": ".py",
   "mimetype": "text/x-python",
   "name": "python",
   "nbconvert_exporter": "python",
   "pygments_lexer": "ipython3",
   "version": "3.7.6"
  }
 },
 "nbformat": 4,
 "nbformat_minor": 4
}
