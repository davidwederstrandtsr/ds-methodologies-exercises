{
 "cells": [
  {
   "cell_type": "code",
   "execution_count": 1,
   "metadata": {},
   "outputs": [],
   "source": [
    "import pandas as pd\n",
    "import numpy as np\n",
    "import seaborn as sns\n",
    "from pandas_profiling import ProfileReport\n",
    "from pydataset import data\n",
    "import matplotlib.pyplot as plt\n"
   ]
  },
  {
   "cell_type": "markdown",
   "metadata": {},
   "source": [
    "to run report\n",
    "\n",
    "- profile = ProfileReport(df, title='Pandas Profiling Report', html={'style':{'full_width':True}})"
   ]
  },
  {
   "cell_type": "code",
   "execution_count": 2,
   "metadata": {},
   "outputs": [],
   "source": [
    "def plot_variable_pairs(df, hue=None):\n",
    "    g = sns.pairplot(df, hue=hue, kind=\"reg\", corner=True, diag_kind=\"kde\",\n",
    "        plot_kws=({'line_kws':{'color':'red'}, 'scatter_kws':{'alpha':0.7}}))\n",
    "    g.fig.suptitle(\"Scattlerplot with Regression for Continuous Variables\")\n",
    "    plt.show()"
   ]
  },
  {
   "cell_type": "markdown",
   "metadata": {},
   "source": [
    "## Exercise 2\n",
    "- write a function, months_to_years(tenure_months, df) that returns your dataframe with a new feature tenure_years, in complete years as a customer."
   ]
  },
  {
   "cell_type": "code",
   "execution_count": 3,
   "metadata": {},
   "outputs": [],
   "source": [
    "def months_to_years(n_months, df,rounding=False):\n",
    "    \"\"\"\n",
    "    Returns the dataframe with a new column providing years.\n",
    "    Rounding rounds up or down, defaults to highest complete year.\n",
    "    For example, life insurence underwrites round up/down while tenure based bouns\n",
    "       conversions take the highest wholenumber w/o rounding\n",
    "    \"\"\"\n",
    "    if rounding:\n",
    "        df[\"teunre_years\"] = np.round(n_months / 12)\n",
    "        return df\n",
    "    else:\n",
    "        df[\"tenure_years\"] = n_months // 12\n",
    "        return df"
   ]
  },
  {
   "cell_type": "markdown",
   "metadata": {},
   "source": [
    "## Exercise 3\n",
    "\n",
    "- Write a function, plot_categorical_and_continuous_vars(categorical_var, continuous_var, df), that outputs 3 different plots for plotting a categorical variable with a continuous variable, e.g. tenure_years with total_charges. For ideas on effective ways to visualize categorical with continuous: https://datavizcatalogue.com/. \n",
    "- You can then look into seaborn and matplotlib documentation for ways to create plots."
   ]
  },
  {
   "cell_type": "code",
   "execution_count": 4,
   "metadata": {},
   "outputs": [],
   "source": [
    "def plot_categroical_and_continous_vars(categorical_var, continuous_var, df):\n",
    "    sns.catplot(y=categorical_var, x=continuous_var, data=df)\n",
    "    sns.catplot(x=continuous_var, kind=\"count\", palette=\"ch:.25\", data=df)\n",
    "    sns.catplot(y=categorical_var, x=continuous_var, kind=\"box\", data=df)\n",
    "    sns.catplot(y=categorical_var, x=continuous_var, kind=\"violin\", bw=.15, cut=0, data=df)"
   ]
  },
  {
   "cell_type": "code",
   "execution_count": null,
   "metadata": {},
   "outputs": [],
   "source": []
  }
 ],
 "metadata": {
  "kernelspec": {
   "display_name": "Python 3",
   "language": "python",
   "name": "python3"
  },
  "language_info": {
   "codemirror_mode": {
    "name": "ipython",
    "version": 3
   },
   "file_extension": ".py",
   "mimetype": "text/x-python",
   "name": "python",
   "nbconvert_exporter": "python",
   "pygments_lexer": "ipython3",
   "version": "3.7.6"
  }
 },
 "nbformat": 4,
 "nbformat_minor": 4
}
