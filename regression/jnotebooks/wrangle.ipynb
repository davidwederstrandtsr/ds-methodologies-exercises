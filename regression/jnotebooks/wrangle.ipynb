{
 "cells": [
  {
   "cell_type": "markdown",
   "metadata": {},
   "source": [
    "Throughout the exercises for Regression in Python lessons, you will use the following example scenario: \n",
    "As a customer analyst, I want to know who has spent the most money with us over their lifetime. \n",
    "I have monthly charges and tenure, so I think I will be able to use those two attributes as features \n",
    "to estimate total_charges. I need to do this within an average of $5.00 per customer.\n",
    "\n",
    "The first step will be to acquire and prep the data. Do your work for this exercise in a file named wrangle.py.\n",
    "\n",
    "1. Acquire customer_id, monthly_charges, tenure, and total_charges from telco_churn database \n",
    "   for all customers with a 2 year contract. \n",
    "2. Walk through the steps above using your new dataframe. You may handle the missing \n",
    "   values however you feel is appropriate.\n",
    "3. End with a python file wrangle.py that contains the function, wrangle_telco(), \n",
    "   that will acquire the data and return a dataframe cleaned with no missing values."
   ]
  },
  {
   "cell_type": "code",
   "execution_count": 1,
   "metadata": {},
   "outputs": [],
   "source": [
    "import pandas as pd\n",
    "import numpy as np \n",
    "import env"
   ]
  },
  {
   "cell_type": "code",
   "execution_count": 2,
   "metadata": {},
   "outputs": [],
   "source": [
    "def get_sql():\n",
    "    return \"\"\"\n",
    "    select customer_id, tenure, monthly_charges, total_charges\n",
    "    from customers\n",
    "    where contract_type_id = 3;\n",
    "    \"\"\""
   ]
  },
  {
   "cell_type": "code",
   "execution_count": 3,
   "metadata": {},
   "outputs": [],
   "source": [
    "def get_url():\n",
    "    return f'mysql+pymysql://{env.user}:{env.password}@{env.host}/telco_churn'"
   ]
  },
  {
   "cell_type": "code",
   "execution_count": 4,
   "metadata": {},
   "outputs": [],
   "source": [
    "def wrangle_telco():\n",
    "    df = pd.read_sql(get_sql(), get_url())\n",
    "    df.tenure.replace(0, 1, inplace=True )\n",
    "    df.total_charges = df.total_charges.str.strip()\n",
    "    df = df[df.total_charges != \"\"]\n",
    "    df.total_charges = df.total_charges.astype(float)\n",
    "    return df"
   ]
  }
 ],
 "metadata": {
  "kernelspec": {
   "display_name": "Python 3",
   "language": "python",
   "name": "python3"
  },
  "language_info": {
   "codemirror_mode": {
    "name": "ipython",
    "version": 3
   },
   "file_extension": ".py",
   "mimetype": "text/x-python",
   "name": "python",
   "nbconvert_exporter": "python",
   "pygments_lexer": "ipython3",
   "version": "3.7.6"
  }
 },
 "nbformat": 4,
 "nbformat_minor": 4
}
