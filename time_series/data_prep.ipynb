{
 "cells": [
  {
   "cell_type": "code",
   "execution_count": 46,
   "metadata": {},
   "outputs": [
    {
     "ename": "ImportError",
     "evalue": "cannot import name 'prep_store_data' from 'prepare' (/Users/dad/codeup-data-science/ds-methodologies-exercises/time_series/prepare.py)",
     "output_type": "error",
     "traceback": [
      "\u001b[0;31m---------------------------------------------------------------------------\u001b[0m",
      "\u001b[0;31mImportError\u001b[0m                               Traceback (most recent call last)",
      "\u001b[0;32m<ipython-input-46-dce37c233744>\u001b[0m in \u001b[0;36m<module>\u001b[0;34m\u001b[0m\n\u001b[1;32m      8\u001b[0m \u001b[0mwarnings\u001b[0m\u001b[0;34m.\u001b[0m\u001b[0mfilterwarnings\u001b[0m\u001b[0;34m(\u001b[0m\u001b[0;34m\"ignore\"\u001b[0m\u001b[0;34m)\u001b[0m\u001b[0;34m\u001b[0m\u001b[0;34m\u001b[0m\u001b[0m\n\u001b[1;32m      9\u001b[0m \u001b[0;34m\u001b[0m\u001b[0m\n\u001b[0;32m---> 10\u001b[0;31m \u001b[0;32mfrom\u001b[0m \u001b[0mprepare\u001b[0m \u001b[0;32mimport\u001b[0m \u001b[0mget_store_data\u001b[0m\u001b[0;34m,\u001b[0m \u001b[0mconvert_date\u001b[0m\u001b[0;34m,\u001b[0m \u001b[0mget_converted_data\u001b[0m\u001b[0;34m,\u001b[0m \u001b[0mprep_store_data\u001b[0m\u001b[0;34m\u001b[0m\u001b[0;34m\u001b[0m\u001b[0m\n\u001b[0m",
      "\u001b[0;31mImportError\u001b[0m: cannot import name 'prep_store_data' from 'prepare' (/Users/dad/codeup-data-science/ds-methodologies-exercises/time_series/prepare.py)"
     ]
    }
   ],
   "source": [
    "import pandas as pd\n",
    "from datetime import timedelta, datetime\n",
    "import numpy as np\n",
    "import matplotlib.pyplot as plt\n",
    "\n",
    "%matplotlib inline\n",
    "import warnings\n",
    "warnings.filterwarnings(\"ignore\")\n",
    "\n",
    "from prepare import get_store_data, convert_date, get_converted_data, prep_store_data"
   ]
  },
  {
   "cell_type": "code",
   "execution_count": 47,
   "metadata": {},
   "outputs": [],
   "source": [
    "df = get_store_data()"
   ]
  },
  {
   "cell_type": "code",
   "execution_count": 3,
   "metadata": {},
   "outputs": [
    {
     "data": {
      "text/html": [
       "<div>\n",
       "<style scoped>\n",
       "    .dataframe tbody tr th:only-of-type {\n",
       "        vertical-align: middle;\n",
       "    }\n",
       "\n",
       "    .dataframe tbody tr th {\n",
       "        vertical-align: top;\n",
       "    }\n",
       "\n",
       "    .dataframe thead th {\n",
       "        text-align: right;\n",
       "    }\n",
       "</style>\n",
       "<table border=\"1\" class=\"dataframe\">\n",
       "  <thead>\n",
       "    <tr style=\"text-align: right;\">\n",
       "      <th></th>\n",
       "      <th>sale_amount</th>\n",
       "      <th>sale_date</th>\n",
       "      <th>sale_id</th>\n",
       "      <th>item_brand</th>\n",
       "      <th>item_id</th>\n",
       "      <th>item_name</th>\n",
       "      <th>item_price</th>\n",
       "      <th>item_upc12</th>\n",
       "      <th>item_upc14</th>\n",
       "      <th>store_address</th>\n",
       "      <th>store_city</th>\n",
       "      <th>store_id</th>\n",
       "      <th>store_state</th>\n",
       "      <th>store_zipcode</th>\n",
       "    </tr>\n",
       "  </thead>\n",
       "  <tbody>\n",
       "    <tr>\n",
       "      <th>0</th>\n",
       "      <td>13.0</td>\n",
       "      <td>Tue, 01 Jan 2013 00:00:00 GMT</td>\n",
       "      <td>1</td>\n",
       "      <td>Riceland</td>\n",
       "      <td>1</td>\n",
       "      <td>Riceland American Jazmine Rice</td>\n",
       "      <td>0.84</td>\n",
       "      <td>35200264013</td>\n",
       "      <td>35200264013</td>\n",
       "      <td>12125 Alamo Ranch Pkwy</td>\n",
       "      <td>San Antonio</td>\n",
       "      <td>1</td>\n",
       "      <td>TX</td>\n",
       "      <td>78253</td>\n",
       "    </tr>\n",
       "    <tr>\n",
       "      <th>1</th>\n",
       "      <td>11.0</td>\n",
       "      <td>Wed, 02 Jan 2013 00:00:00 GMT</td>\n",
       "      <td>2</td>\n",
       "      <td>Riceland</td>\n",
       "      <td>1</td>\n",
       "      <td>Riceland American Jazmine Rice</td>\n",
       "      <td>0.84</td>\n",
       "      <td>35200264013</td>\n",
       "      <td>35200264013</td>\n",
       "      <td>12125 Alamo Ranch Pkwy</td>\n",
       "      <td>San Antonio</td>\n",
       "      <td>1</td>\n",
       "      <td>TX</td>\n",
       "      <td>78253</td>\n",
       "    </tr>\n",
       "    <tr>\n",
       "      <th>2</th>\n",
       "      <td>14.0</td>\n",
       "      <td>Thu, 03 Jan 2013 00:00:00 GMT</td>\n",
       "      <td>3</td>\n",
       "      <td>Riceland</td>\n",
       "      <td>1</td>\n",
       "      <td>Riceland American Jazmine Rice</td>\n",
       "      <td>0.84</td>\n",
       "      <td>35200264013</td>\n",
       "      <td>35200264013</td>\n",
       "      <td>12125 Alamo Ranch Pkwy</td>\n",
       "      <td>San Antonio</td>\n",
       "      <td>1</td>\n",
       "      <td>TX</td>\n",
       "      <td>78253</td>\n",
       "    </tr>\n",
       "  </tbody>\n",
       "</table>\n",
       "</div>"
      ],
      "text/plain": [
       "   sale_amount                      sale_date  sale_id item_brand  item_id  \\\n",
       "0         13.0  Tue, 01 Jan 2013 00:00:00 GMT        1   Riceland        1   \n",
       "1         11.0  Wed, 02 Jan 2013 00:00:00 GMT        2   Riceland        1   \n",
       "2         14.0  Thu, 03 Jan 2013 00:00:00 GMT        3   Riceland        1   \n",
       "\n",
       "                        item_name  item_price   item_upc12   item_upc14  \\\n",
       "0  Riceland American Jazmine Rice        0.84  35200264013  35200264013   \n",
       "1  Riceland American Jazmine Rice        0.84  35200264013  35200264013   \n",
       "2  Riceland American Jazmine Rice        0.84  35200264013  35200264013   \n",
       "\n",
       "            store_address   store_city  store_id store_state  store_zipcode  \n",
       "0  12125 Alamo Ranch Pkwy  San Antonio         1          TX          78253  \n",
       "1  12125 Alamo Ranch Pkwy  San Antonio         1          TX          78253  \n",
       "2  12125 Alamo Ranch Pkwy  San Antonio         1          TX          78253  "
      ]
     },
     "execution_count": 3,
     "metadata": {},
     "output_type": "execute_result"
    }
   ],
   "source": [
    "df.head(3)"
   ]
  },
  {
   "cell_type": "code",
   "execution_count": 4,
   "metadata": {},
   "outputs": [
    {
     "data": {
      "text/plain": [
       "sale_amount      0\n",
       "sale_date        0\n",
       "sale_id          0\n",
       "item_brand       0\n",
       "item_id          0\n",
       "item_name        0\n",
       "item_price       0\n",
       "item_upc12       0\n",
       "item_upc14       0\n",
       "store_address    0\n",
       "store_city       0\n",
       "store_id         0\n",
       "store_state      0\n",
       "store_zipcode    0\n",
       "dtype: int64"
      ]
     },
     "execution_count": 4,
     "metadata": {},
     "output_type": "execute_result"
    }
   ],
   "source": [
    "df.isnull().sum()"
   ]
  },
  {
   "cell_type": "code",
   "execution_count": 5,
   "metadata": {},
   "outputs": [
    {
     "data": {
      "text/plain": [
       "(913000, 14)"
      ]
     },
     "execution_count": 5,
     "metadata": {},
     "output_type": "execute_result"
    }
   ],
   "source": [
    "df.shape"
   ]
  },
  {
   "cell_type": "code",
   "execution_count": 6,
   "metadata": {},
   "outputs": [
    {
     "data": {
      "text/plain": [
       "array([ 1,  2,  3,  4,  5,  6,  7,  8,  9, 10])"
      ]
     },
     "execution_count": 6,
     "metadata": {},
     "output_type": "execute_result"
    }
   ],
   "source": [
    "df.store_id.unique()"
   ]
  },
  {
   "cell_type": "code",
   "execution_count": 7,
   "metadata": {},
   "outputs": [
    {
     "data": {
      "text/plain": [
       "array([ 1,  2,  3,  4,  5,  6,  7,  8,  9, 10, 11, 12, 13, 14, 15, 16, 17,\n",
       "       18, 19, 20, 21, 22, 23, 24, 25, 26, 27, 28, 29, 30, 31, 32, 33, 34,\n",
       "       35, 36, 37, 38, 39, 40, 41, 42, 43, 44, 45, 46, 47, 48, 49, 50])"
      ]
     },
     "execution_count": 7,
     "metadata": {},
     "output_type": "execute_result"
    }
   ],
   "source": [
    "df.item_id.unique()"
   ]
  },
  {
   "cell_type": "code",
   "execution_count": 8,
   "metadata": {},
   "outputs": [
    {
     "data": {
      "text/plain": [
       "array([0.84, 6.44, 2.43, 3.14, 2.61, 6.93, 9.64, 1.68, 1.79, 3.17, 3.93,\n",
       "       8.4 , 6.47, 7.54, 9.11, 5.17, 1.16, 4.39, 0.74, 5.62, 8.09, 7.31,\n",
       "       1.78, 5.34, 0.98, 6.01, 7.52, 8.65, 8.39, 4.21, 0.68, 6.52, 4.17,\n",
       "       5.19, 7.95, 9.59, 3.45, 9.02, 0.6 , 2.97, 7.06, 4.4 , 4.65, 7.38,\n",
       "       3.72, 9.54, 5.2 ])"
      ]
     },
     "execution_count": 8,
     "metadata": {},
     "output_type": "execute_result"
    }
   ],
   "source": [
    "df.item_price.unique()"
   ]
  },
  {
   "cell_type": "code",
   "execution_count": 9,
   "metadata": {},
   "outputs": [
    {
     "data": {
      "text/plain": [
       "array(['Tue, 01 Jan 2013 00:00:00 GMT', 'Wed, 02 Jan 2013 00:00:00 GMT',\n",
       "       'Thu, 03 Jan 2013 00:00:00 GMT', ...,\n",
       "       'Fri, 29 Dec 2017 00:00:00 GMT', 'Sat, 30 Dec 2017 00:00:00 GMT',\n",
       "       'Sun, 31 Dec 2017 00:00:00 GMT'], dtype=object)"
      ]
     },
     "execution_count": 9,
     "metadata": {},
     "output_type": "execute_result"
    }
   ],
   "source": [
    "df.sale_date.unique()"
   ]
  },
  {
   "cell_type": "code",
   "execution_count": 10,
   "metadata": {},
   "outputs": [
    {
     "data": {
      "text/plain": [
       "array([ 13.,  11.,  14.,  10.,  12.,   9.,   7.,   5.,  16.,  18.,  15.,\n",
       "         8.,   6.,  21.,  20.,  17.,  22.,  19.,  24.,  23.,  26.,  25.,\n",
       "        27.,  38.,  34.,  29.,  31.,  30.,   4.,  36.,  28.,  33.,  32.,\n",
       "        37.,  35.,  43.,  40.,  41.,  39.,  42.,  50.,  44.,  46.,  49.,\n",
       "        48.,  52.,  58.,  51.,  45.,  53.,  57.,  54.,  60.,  63.,  69.,\n",
       "        64.,  55.,  67.,  65.,  56.,  47.,  71.,  61.,  73.,  62.,  82.,\n",
       "        78.,  68.,  74.,  59.,  70.,  87.,  66.,  77.,  88.,  76.,  75.,\n",
       "       102.,  72.,  92.,  86.,  79.,  85.,  81.,  90.,  84.,  80., 103.,\n",
       "        97.,  96.,  95.,  89., 104.,  94., 100.,  91.,  83., 106., 101.,\n",
       "        98., 115.,   3.,  99.,  93., 105., 110., 108., 111., 114., 112.,\n",
       "       116., 121., 120., 117., 113., 107., 109., 118., 137., 128., 127.,\n",
       "       122., 119., 131., 123., 124., 125., 133., 134., 132., 129., 126.,\n",
       "       139., 130., 143., 147., 141., 135., 140., 136., 154., 146., 150.,\n",
       "       155., 145.,   1., 142., 153., 151., 149., 138., 148., 144., 152.,\n",
       "       169., 156., 159., 157., 163., 165., 160., 158., 164., 171., 161.,\n",
       "       177., 162., 175., 181., 168., 167., 174., 170., 166., 173., 187.,\n",
       "       182., 189., 179., 172., 204., 180., 178., 190., 176., 191., 210.,\n",
       "       184., 183., 196., 194., 197., 185., 207., 209., 195., 198., 186.,\n",
       "       231., 205., 192., 188., 208., 201., 214., 193., 206., 203.,   2.,\n",
       "         0., 199., 200., 202.])"
      ]
     },
     "execution_count": 10,
     "metadata": {},
     "output_type": "execute_result"
    }
   ],
   "source": [
    "df.sale_amount.unique()"
   ]
  },
  {
   "cell_type": "code",
   "execution_count": 11,
   "metadata": {},
   "outputs": [
    {
     "name": "stdout",
     "output_type": "stream",
     "text": [
      "<class 'pandas.core.frame.DataFrame'>\n",
      "Int64Index: 913000 entries, 0 to 912999\n",
      "Data columns (total 14 columns):\n",
      " #   Column         Non-Null Count   Dtype  \n",
      "---  ------         --------------   -----  \n",
      " 0   sale_amount    913000 non-null  float64\n",
      " 1   sale_date      913000 non-null  object \n",
      " 2   sale_id        913000 non-null  int64  \n",
      " 3   item_brand     913000 non-null  object \n",
      " 4   item_id        913000 non-null  int64  \n",
      " 5   item_name      913000 non-null  object \n",
      " 6   item_price     913000 non-null  float64\n",
      " 7   item_upc12     913000 non-null  int64  \n",
      " 8   item_upc14     913000 non-null  int64  \n",
      " 9   store_address  913000 non-null  object \n",
      " 10  store_city     913000 non-null  object \n",
      " 11  store_id       913000 non-null  int64  \n",
      " 12  store_state    913000 non-null  object \n",
      " 13  store_zipcode  913000 non-null  int64  \n",
      "dtypes: float64(2), int64(6), object(6)\n",
      "memory usage: 104.5+ MB\n"
     ]
    }
   ],
   "source": [
    "df.info()"
   ]
  },
  {
   "cell_type": "markdown",
   "metadata": {},
   "source": [
    "### Takeaways:\n",
    "1. there are no missing values\n",
    "2. there are 913,000 rows\n",
    "3. store_id ranges from 1 to 10\n",
    "4. item_id ranges from 1 to 50\n"
   ]
  },
  {
   "cell_type": "code",
   "execution_count": 12,
   "metadata": {},
   "outputs": [
    {
     "name": "stdout",
     "output_type": "stream",
     "text": [
      "Acquired sales_date_converted.csv from local storage\n",
      "Reading to dataframe ...\n"
     ]
    }
   ],
   "source": [
    "# # convert sale_date to DateTime Index\n",
    "# df['sale_date'] = pd.to_datetime(df.sale_date)\n",
    "# df = df.set_index('sale_date').sort_index()\n",
    "df = convert_date(df)"
   ]
  },
  {
   "cell_type": "code",
   "execution_count": 13,
   "metadata": {},
   "outputs": [
    {
     "data": {
      "text/html": [
       "<div>\n",
       "<style scoped>\n",
       "    .dataframe tbody tr th:only-of-type {\n",
       "        vertical-align: middle;\n",
       "    }\n",
       "\n",
       "    .dataframe tbody tr th {\n",
       "        vertical-align: top;\n",
       "    }\n",
       "\n",
       "    .dataframe thead th {\n",
       "        text-align: right;\n",
       "    }\n",
       "</style>\n",
       "<table border=\"1\" class=\"dataframe\">\n",
       "  <thead>\n",
       "    <tr style=\"text-align: right;\">\n",
       "      <th></th>\n",
       "      <th>sale_amount</th>\n",
       "      <th>sale_id</th>\n",
       "      <th>item_brand</th>\n",
       "      <th>item_id</th>\n",
       "      <th>item_name</th>\n",
       "      <th>item_price</th>\n",
       "      <th>item_upc12</th>\n",
       "      <th>item_upc14</th>\n",
       "      <th>store_address</th>\n",
       "      <th>store_city</th>\n",
       "      <th>store_id</th>\n",
       "      <th>store_state</th>\n",
       "      <th>store_zipcode</th>\n",
       "    </tr>\n",
       "    <tr>\n",
       "      <th>sale_date</th>\n",
       "      <th></th>\n",
       "      <th></th>\n",
       "      <th></th>\n",
       "      <th></th>\n",
       "      <th></th>\n",
       "      <th></th>\n",
       "      <th></th>\n",
       "      <th></th>\n",
       "      <th></th>\n",
       "      <th></th>\n",
       "      <th></th>\n",
       "      <th></th>\n",
       "      <th></th>\n",
       "    </tr>\n",
       "  </thead>\n",
       "  <tbody>\n",
       "    <tr>\n",
       "      <th>2013-01-01 00:00:00+00:00</th>\n",
       "      <td>13.0</td>\n",
       "      <td>1</td>\n",
       "      <td>Riceland</td>\n",
       "      <td>1</td>\n",
       "      <td>Riceland American Jazmine Rice</td>\n",
       "      <td>0.84</td>\n",
       "      <td>35200264013</td>\n",
       "      <td>35200264013</td>\n",
       "      <td>12125 Alamo Ranch Pkwy</td>\n",
       "      <td>San Antonio</td>\n",
       "      <td>1</td>\n",
       "      <td>TX</td>\n",
       "      <td>78253</td>\n",
       "    </tr>\n",
       "    <tr>\n",
       "      <th>2013-01-01 00:00:00+00:00</th>\n",
       "      <td>26.0</td>\n",
       "      <td>295813</td>\n",
       "      <td>Ducal</td>\n",
       "      <td>17</td>\n",
       "      <td>Ducal Refried Red Beans</td>\n",
       "      <td>1.16</td>\n",
       "      <td>88313590791</td>\n",
       "      <td>88313590791</td>\n",
       "      <td>2118 Fredericksburg Rdj</td>\n",
       "      <td>San Antonio</td>\n",
       "      <td>3</td>\n",
       "      <td>TX</td>\n",
       "      <td>78201</td>\n",
       "    </tr>\n",
       "    <tr>\n",
       "      <th>2013-01-01 00:00:00+00:00</th>\n",
       "      <td>32.0</td>\n",
       "      <td>125995</td>\n",
       "      <td>Twinings Of London</td>\n",
       "      <td>7</td>\n",
       "      <td>Twinings Of London Classics Lady Grey Tea - 20 Ct</td>\n",
       "      <td>9.64</td>\n",
       "      <td>70177154004</td>\n",
       "      <td>70177154004</td>\n",
       "      <td>8503 NW Military Hwy</td>\n",
       "      <td>San Antonio</td>\n",
       "      <td>10</td>\n",
       "      <td>TX</td>\n",
       "      <td>78231</td>\n",
       "    </tr>\n",
       "    <tr>\n",
       "      <th>2013-01-01 00:00:00+00:00</th>\n",
       "      <td>45.0</td>\n",
       "      <td>314073</td>\n",
       "      <td>Scotch</td>\n",
       "      <td>18</td>\n",
       "      <td>Scotch Removable Clear Mounting Squares - 35 Ct</td>\n",
       "      <td>4.39</td>\n",
       "      <td>21200725340</td>\n",
       "      <td>21200725340</td>\n",
       "      <td>2118 Fredericksburg Rdj</td>\n",
       "      <td>San Antonio</td>\n",
       "      <td>3</td>\n",
       "      <td>TX</td>\n",
       "      <td>78201</td>\n",
       "    </tr>\n",
       "    <tr>\n",
       "      <th>2013-01-01 00:00:00+00:00</th>\n",
       "      <td>34.0</td>\n",
       "      <td>332333</td>\n",
       "      <td>Careone</td>\n",
       "      <td>19</td>\n",
       "      <td>Careone Family Comb Set - 8 Ct</td>\n",
       "      <td>0.74</td>\n",
       "      <td>41520035646</td>\n",
       "      <td>41520035646</td>\n",
       "      <td>2118 Fredericksburg Rdj</td>\n",
       "      <td>San Antonio</td>\n",
       "      <td>3</td>\n",
       "      <td>TX</td>\n",
       "      <td>78201</td>\n",
       "    </tr>\n",
       "  </tbody>\n",
       "</table>\n",
       "</div>"
      ],
      "text/plain": [
       "                           sale_amount  sale_id          item_brand  item_id  \\\n",
       "sale_date                                                                      \n",
       "2013-01-01 00:00:00+00:00         13.0        1            Riceland        1   \n",
       "2013-01-01 00:00:00+00:00         26.0   295813               Ducal       17   \n",
       "2013-01-01 00:00:00+00:00         32.0   125995  Twinings Of London        7   \n",
       "2013-01-01 00:00:00+00:00         45.0   314073              Scotch       18   \n",
       "2013-01-01 00:00:00+00:00         34.0   332333             Careone       19   \n",
       "\n",
       "                                                                   item_name  \\\n",
       "sale_date                                                                      \n",
       "2013-01-01 00:00:00+00:00                     Riceland American Jazmine Rice   \n",
       "2013-01-01 00:00:00+00:00                            Ducal Refried Red Beans   \n",
       "2013-01-01 00:00:00+00:00  Twinings Of London Classics Lady Grey Tea - 20 Ct   \n",
       "2013-01-01 00:00:00+00:00    Scotch Removable Clear Mounting Squares - 35 Ct   \n",
       "2013-01-01 00:00:00+00:00                     Careone Family Comb Set - 8 Ct   \n",
       "\n",
       "                           item_price   item_upc12   item_upc14  \\\n",
       "sale_date                                                         \n",
       "2013-01-01 00:00:00+00:00        0.84  35200264013  35200264013   \n",
       "2013-01-01 00:00:00+00:00        1.16  88313590791  88313590791   \n",
       "2013-01-01 00:00:00+00:00        9.64  70177154004  70177154004   \n",
       "2013-01-01 00:00:00+00:00        4.39  21200725340  21200725340   \n",
       "2013-01-01 00:00:00+00:00        0.74  41520035646  41520035646   \n",
       "\n",
       "                                     store_address   store_city  store_id  \\\n",
       "sale_date                                                                   \n",
       "2013-01-01 00:00:00+00:00   12125 Alamo Ranch Pkwy  San Antonio         1   \n",
       "2013-01-01 00:00:00+00:00  2118 Fredericksburg Rdj  San Antonio         3   \n",
       "2013-01-01 00:00:00+00:00     8503 NW Military Hwy  San Antonio        10   \n",
       "2013-01-01 00:00:00+00:00  2118 Fredericksburg Rdj  San Antonio         3   \n",
       "2013-01-01 00:00:00+00:00  2118 Fredericksburg Rdj  San Antonio         3   \n",
       "\n",
       "                          store_state  store_zipcode  \n",
       "sale_date                                             \n",
       "2013-01-01 00:00:00+00:00          TX          78253  \n",
       "2013-01-01 00:00:00+00:00          TX          78201  \n",
       "2013-01-01 00:00:00+00:00          TX          78231  \n",
       "2013-01-01 00:00:00+00:00          TX          78201  \n",
       "2013-01-01 00:00:00+00:00          TX          78201  "
      ]
     },
     "execution_count": 13,
     "metadata": {},
     "output_type": "execute_result"
    }
   ],
   "source": [
    "df.head(5)"
   ]
  },
  {
   "cell_type": "code",
   "execution_count": 14,
   "metadata": {},
   "outputs": [
    {
     "data": {
      "text/plain": [
       "(913000, 913000)"
      ]
     },
     "execution_count": 14,
     "metadata": {},
     "output_type": "execute_result"
    }
   ],
   "source": [
    "df.shape[0], df.sale_id.nunique()"
   ]
  },
  {
   "cell_type": "code",
   "execution_count": 15,
   "metadata": {},
   "outputs": [
    {
     "data": {
      "text/html": [
       "<div>\n",
       "<style scoped>\n",
       "    .dataframe tbody tr th:only-of-type {\n",
       "        vertical-align: middle;\n",
       "    }\n",
       "\n",
       "    .dataframe tbody tr th {\n",
       "        vertical-align: top;\n",
       "    }\n",
       "\n",
       "    .dataframe thead th {\n",
       "        text-align: right;\n",
       "    }\n",
       "</style>\n",
       "<table border=\"1\" class=\"dataframe\">\n",
       "  <thead>\n",
       "    <tr style=\"text-align: right;\">\n",
       "      <th></th>\n",
       "      <th>sale_amount</th>\n",
       "      <th>sale_id</th>\n",
       "      <th>item_brand</th>\n",
       "      <th>item_id</th>\n",
       "      <th>item_name</th>\n",
       "      <th>item_price</th>\n",
       "      <th>item_upc12</th>\n",
       "      <th>item_upc14</th>\n",
       "      <th>store_address</th>\n",
       "      <th>store_city</th>\n",
       "      <th>store_id</th>\n",
       "      <th>store_state</th>\n",
       "      <th>store_zipcode</th>\n",
       "    </tr>\n",
       "    <tr>\n",
       "      <th>sale_date</th>\n",
       "      <th></th>\n",
       "      <th></th>\n",
       "      <th></th>\n",
       "      <th></th>\n",
       "      <th></th>\n",
       "      <th></th>\n",
       "      <th></th>\n",
       "      <th></th>\n",
       "      <th></th>\n",
       "      <th></th>\n",
       "      <th></th>\n",
       "      <th></th>\n",
       "      <th></th>\n",
       "    </tr>\n",
       "  </thead>\n",
       "  <tbody>\n",
       "    <tr>\n",
       "      <th>2016-01-01 00:00:00+00:00</th>\n",
       "      <td>40.0</td>\n",
       "      <td>875750</td>\n",
       "      <td>Dove</td>\n",
       "      <td>48</td>\n",
       "      <td>Dove Men + Care Antiperspirant Deodorant Cool ...</td>\n",
       "      <td>3.72</td>\n",
       "      <td>79400271631</td>\n",
       "      <td>79400271631</td>\n",
       "      <td>8503 NW Military Hwy</td>\n",
       "      <td>San Antonio</td>\n",
       "      <td>10</td>\n",
       "      <td>TX</td>\n",
       "      <td>78231</td>\n",
       "    </tr>\n",
       "    <tr>\n",
       "      <th>2016-01-01 00:00:00+00:00</th>\n",
       "      <td>48.0</td>\n",
       "      <td>127090</td>\n",
       "      <td>Twinings Of London</td>\n",
       "      <td>7</td>\n",
       "      <td>Twinings Of London Classics Lady Grey Tea - 20 Ct</td>\n",
       "      <td>9.64</td>\n",
       "      <td>70177154004</td>\n",
       "      <td>70177154004</td>\n",
       "      <td>8503 NW Military Hwy</td>\n",
       "      <td>San Antonio</td>\n",
       "      <td>10</td>\n",
       "      <td>TX</td>\n",
       "      <td>78231</td>\n",
       "    </tr>\n",
       "    <tr>\n",
       "      <th>2016-01-01 00:00:00+00:00</th>\n",
       "      <td>89.0</td>\n",
       "      <td>506898</td>\n",
       "      <td>Usda Produce</td>\n",
       "      <td>28</td>\n",
       "      <td>Guava</td>\n",
       "      <td>7.52</td>\n",
       "      <td>719175900007</td>\n",
       "      <td>719175900007</td>\n",
       "      <td>15000 San Pedro Ave</td>\n",
       "      <td>San Antonio</td>\n",
       "      <td>8</td>\n",
       "      <td>TX</td>\n",
       "      <td>78232</td>\n",
       "    </tr>\n",
       "  </tbody>\n",
       "</table>\n",
       "</div>"
      ],
      "text/plain": [
       "                           sale_amount  sale_id          item_brand  item_id  \\\n",
       "sale_date                                                                      \n",
       "2016-01-01 00:00:00+00:00         40.0   875750                Dove       48   \n",
       "2016-01-01 00:00:00+00:00         48.0   127090  Twinings Of London        7   \n",
       "2016-01-01 00:00:00+00:00         89.0   506898        Usda Produce       28   \n",
       "\n",
       "                                                                   item_name  \\\n",
       "sale_date                                                                      \n",
       "2016-01-01 00:00:00+00:00  Dove Men + Care Antiperspirant Deodorant Cool ...   \n",
       "2016-01-01 00:00:00+00:00  Twinings Of London Classics Lady Grey Tea - 20 Ct   \n",
       "2016-01-01 00:00:00+00:00                                              Guava   \n",
       "\n",
       "                           item_price    item_upc12    item_upc14  \\\n",
       "sale_date                                                           \n",
       "2016-01-01 00:00:00+00:00        3.72   79400271631   79400271631   \n",
       "2016-01-01 00:00:00+00:00        9.64   70177154004   70177154004   \n",
       "2016-01-01 00:00:00+00:00        7.52  719175900007  719175900007   \n",
       "\n",
       "                                  store_address   store_city  store_id  \\\n",
       "sale_date                                                                \n",
       "2016-01-01 00:00:00+00:00  8503 NW Military Hwy  San Antonio        10   \n",
       "2016-01-01 00:00:00+00:00  8503 NW Military Hwy  San Antonio        10   \n",
       "2016-01-01 00:00:00+00:00   15000 San Pedro Ave  San Antonio         8   \n",
       "\n",
       "                          store_state  store_zipcode  \n",
       "sale_date                                             \n",
       "2016-01-01 00:00:00+00:00          TX          78231  \n",
       "2016-01-01 00:00:00+00:00          TX          78231  \n",
       "2016-01-01 00:00:00+00:00          TX          78232  "
      ]
     },
     "execution_count": 15,
     "metadata": {},
     "output_type": "execute_result"
    }
   ],
   "source": [
    "df.loc['2016'].head(3)"
   ]
  },
  {
   "cell_type": "code",
   "execution_count": 16,
   "metadata": {},
   "outputs": [
    {
     "data": {
      "text/plain": [
       "<matplotlib.axes._subplots.AxesSubplot at 0x135014990>"
      ]
     },
     "execution_count": 16,
     "metadata": {},
     "output_type": "execute_result"
    },
    {
     "data": {
      "image/png": "[encoded data removed]",
      "text/plain": [
       "<Figure size 432x288 with 1 Axes>"
      ]
     },
     "metadata": {
      "needs_background": "light"
     },
     "output_type": "display_data"
    }
   ],
   "source": [
    "# chart daily sum of sales amount\n",
    "by_date = df.groupby(['sale_date'])['sale_amount'].sum().reset_index()\n",
    "by_date.plot(x='sale_date', y='sale_amount')"
   ]
  },
  {
   "cell_type": "code",
   "execution_count": 17,
   "metadata": {},
   "outputs": [
    {
     "data": {
      "text/plain": [
       "10"
      ]
     },
     "execution_count": 17,
     "metadata": {},
     "output_type": "execute_result"
    }
   ],
   "source": [
    "df.store_id.nunique()"
   ]
  },
  {
   "cell_type": "code",
   "execution_count": 18,
   "metadata": {},
   "outputs": [
    {
     "data": {
      "text/plain": [
       "10    91300\n",
       "9     91300\n",
       "8     91300\n",
       "7     91300\n",
       "6     91300\n",
       "5     91300\n",
       "4     91300\n",
       "3     91300\n",
       "2     91300\n",
       "1     91300\n",
       "Name: store_id, dtype: int64"
      ]
     },
     "execution_count": 18,
     "metadata": {},
     "output_type": "execute_result"
    }
   ],
   "source": [
    "df.store_id.value_counts()"
   ]
  },
  {
   "cell_type": "code",
   "execution_count": 19,
   "metadata": {},
   "outputs": [
    {
     "data": {
      "text/html": [
       "<div>\n",
       "<style scoped>\n",
       "    .dataframe tbody tr th:only-of-type {\n",
       "        vertical-align: middle;\n",
       "    }\n",
       "\n",
       "    .dataframe tbody tr th {\n",
       "        vertical-align: top;\n",
       "    }\n",
       "\n",
       "    .dataframe thead th {\n",
       "        text-align: right;\n",
       "    }\n",
       "</style>\n",
       "<table border=\"1\" class=\"dataframe\">\n",
       "  <thead>\n",
       "    <tr style=\"text-align: right;\">\n",
       "      <th></th>\n",
       "      <th>sale_amount</th>\n",
       "      <th>sale_id</th>\n",
       "      <th>item_brand</th>\n",
       "      <th>item_id</th>\n",
       "      <th>item_name</th>\n",
       "      <th>item_price</th>\n",
       "      <th>item_upc12</th>\n",
       "      <th>item_upc14</th>\n",
       "      <th>store_address</th>\n",
       "      <th>store_city</th>\n",
       "      <th>store_id</th>\n",
       "      <th>store_state</th>\n",
       "      <th>store_zipcode</th>\n",
       "    </tr>\n",
       "    <tr>\n",
       "      <th>sale_date</th>\n",
       "      <th></th>\n",
       "      <th></th>\n",
       "      <th></th>\n",
       "      <th></th>\n",
       "      <th></th>\n",
       "      <th></th>\n",
       "      <th></th>\n",
       "      <th></th>\n",
       "      <th></th>\n",
       "      <th></th>\n",
       "      <th></th>\n",
       "      <th></th>\n",
       "      <th></th>\n",
       "    </tr>\n",
       "  </thead>\n",
       "  <tbody>\n",
       "    <tr>\n",
       "      <th>2013-01-01 00:00:00+00:00</th>\n",
       "      <td>13.0</td>\n",
       "      <td>1</td>\n",
       "      <td>Riceland</td>\n",
       "      <td>1</td>\n",
       "      <td>Riceland American Jazmine Rice</td>\n",
       "      <td>0.84</td>\n",
       "      <td>35200264013</td>\n",
       "      <td>35200264013</td>\n",
       "      <td>12125 Alamo Ranch Pkwy</td>\n",
       "      <td>San Antonio</td>\n",
       "      <td>1</td>\n",
       "      <td>TX</td>\n",
       "      <td>78253</td>\n",
       "    </tr>\n",
       "    <tr>\n",
       "      <th>2013-01-01 00:00:00+00:00</th>\n",
       "      <td>16.0</td>\n",
       "      <td>456501</td>\n",
       "      <td>Triaminic</td>\n",
       "      <td>26</td>\n",
       "      <td>Triaminic Syrup Night Time Cold &amp; Cough Grape 4oz</td>\n",
       "      <td>0.98</td>\n",
       "      <td>300436344045</td>\n",
       "      <td>300436344045</td>\n",
       "      <td>12125 Alamo Ranch Pkwy</td>\n",
       "      <td>San Antonio</td>\n",
       "      <td>1</td>\n",
       "      <td>TX</td>\n",
       "      <td>78253</td>\n",
       "    </tr>\n",
       "    <tr>\n",
       "      <th>2013-01-01 00:00:00+00:00</th>\n",
       "      <td>14.0</td>\n",
       "      <td>474761</td>\n",
       "      <td>Morton</td>\n",
       "      <td>27</td>\n",
       "      <td>Morton Kosher Salt Coarse</td>\n",
       "      <td>6.01</td>\n",
       "      <td>24600017008</td>\n",
       "      <td>24600017008</td>\n",
       "      <td>12125 Alamo Ranch Pkwy</td>\n",
       "      <td>San Antonio</td>\n",
       "      <td>1</td>\n",
       "      <td>TX</td>\n",
       "      <td>78253</td>\n",
       "    </tr>\n",
       "  </tbody>\n",
       "</table>\n",
       "</div>"
      ],
      "text/plain": [
       "                           sale_amount  sale_id item_brand  item_id  \\\n",
       "sale_date                                                             \n",
       "2013-01-01 00:00:00+00:00         13.0        1   Riceland        1   \n",
       "2013-01-01 00:00:00+00:00         16.0   456501  Triaminic       26   \n",
       "2013-01-01 00:00:00+00:00         14.0   474761     Morton       27   \n",
       "\n",
       "                                                                   item_name  \\\n",
       "sale_date                                                                      \n",
       "2013-01-01 00:00:00+00:00                     Riceland American Jazmine Rice   \n",
       "2013-01-01 00:00:00+00:00  Triaminic Syrup Night Time Cold & Cough Grape 4oz   \n",
       "2013-01-01 00:00:00+00:00                          Morton Kosher Salt Coarse   \n",
       "\n",
       "                           item_price    item_upc12    item_upc14  \\\n",
       "sale_date                                                           \n",
       "2013-01-01 00:00:00+00:00        0.84   35200264013   35200264013   \n",
       "2013-01-01 00:00:00+00:00        0.98  300436344045  300436344045   \n",
       "2013-01-01 00:00:00+00:00        6.01   24600017008   24600017008   \n",
       "\n",
       "                                    store_address   store_city  store_id  \\\n",
       "sale_date                                                                  \n",
       "2013-01-01 00:00:00+00:00  12125 Alamo Ranch Pkwy  San Antonio         1   \n",
       "2013-01-01 00:00:00+00:00  12125 Alamo Ranch Pkwy  San Antonio         1   \n",
       "2013-01-01 00:00:00+00:00  12125 Alamo Ranch Pkwy  San Antonio         1   \n",
       "\n",
       "                          store_state  store_zipcode  \n",
       "sale_date                                             \n",
       "2013-01-01 00:00:00+00:00          TX          78253  \n",
       "2013-01-01 00:00:00+00:00          TX          78253  \n",
       "2013-01-01 00:00:00+00:00          TX          78253  "
      ]
     },
     "execution_count": 19,
     "metadata": {},
     "output_type": "execute_result"
    }
   ],
   "source": [
    "df[df.store_id == 1].head(3)"
   ]
  },
  {
   "cell_type": "code",
   "execution_count": 22,
   "metadata": {},
   "outputs": [
    {
     "data": {
      "text/plain": [
       "50"
      ]
     },
     "execution_count": 22,
     "metadata": {},
     "output_type": "execute_result"
    }
   ],
   "source": [
    "# number of unique items\n",
    "# how many unique sold across all stores\n",
    "# item_id works too\n",
    "\n",
    "df.item_name.nunique()"
   ]
  },
  {
   "cell_type": "code",
   "execution_count": 23,
   "metadata": {},
   "outputs": [
    {
     "data": {
      "text/plain": [
       "count       50.0\n",
       "mean     18260.0\n",
       "std          0.0\n",
       "min      18260.0\n",
       "25%      18260.0\n",
       "50%      18260.0\n",
       "75%      18260.0\n",
       "max      18260.0\n",
       "Name: item_name, dtype: float64"
      ]
     },
     "execution_count": 23,
     "metadata": {},
     "output_type": "execute_result"
    }
   ],
   "source": [
    "df.item_name.value_counts().describe()"
   ]
  },
  {
   "cell_type": "markdown",
   "metadata": {},
   "source": [
    "### Explore items and stores\n",
    "- the count = number of items\n",
    "- the mean = number of sales of each"
   ]
  },
  {
   "cell_type": "code",
   "execution_count": 24,
   "metadata": {},
   "outputs": [
    {
     "data": {
      "text/plain": [
       "store_id  item_id\n",
       "1         1         2013-01-01 00:00:00+00:00\n",
       "          2         2013-01-01 00:00:00+00:00\n",
       "          3         2013-01-01 00:00:00+00:00\n",
       "          4         2013-01-01 00:00:00+00:00\n",
       "          5         2013-01-01 00:00:00+00:00\n",
       "Name: sale_date, dtype: datetime64[ns, UTC]"
      ]
     },
     "execution_count": 24,
     "metadata": {},
     "output_type": "execute_result"
    }
   ],
   "source": [
    "first_sale_per_store_item = df.reset_index().groupby(['store_id', 'item_id']).sale_date.min()\n",
    "first_sale_per_store_item[0:5]"
   ]
  },
  {
   "cell_type": "markdown",
   "metadata": {},
   "source": [
    "#### Let's find out if each of the oldest and newest sale_date values are unique:"
   ]
  },
  {
   "cell_type": "code",
   "execution_count": 26,
   "metadata": {},
   "outputs": [
    {
     "data": {
      "text/plain": [
       "<DatetimeArray>\n",
       "['2013-01-01 00:00:00+00:00']\n",
       "Length: 1, dtype: datetime64[ns, UTC]"
      ]
     },
     "execution_count": 26,
     "metadata": {},
     "output_type": "execute_result"
    }
   ],
   "source": [
    "# find out if there is only one unique value\n",
    "first_sale_per_store_item.unique()"
   ]
  },
  {
   "cell_type": "markdown",
   "metadata": {},
   "source": [
    "<div class=\"alert alert-block alert-success\">\n",
    "Are the oldest sale_date values unique?\n",
    "\n",
    "[x] Yes\n",
    "\n",
    "[] No\n",
    "</div>"
   ]
  },
  {
   "cell_type": "code",
   "execution_count": 29,
   "metadata": {},
   "outputs": [
    {
     "data": {
      "text/plain": [
       "store_id  item_id\n",
       "1         1         2017-12-31 00:00:00+00:00\n",
       "          2         2017-12-31 00:00:00+00:00\n",
       "          3         2017-12-31 00:00:00+00:00\n",
       "          4         2017-12-31 00:00:00+00:00\n",
       "          5         2017-12-31 00:00:00+00:00\n",
       "Name: sale_date, dtype: datetime64[ns, UTC]"
      ]
     },
     "execution_count": 29,
     "metadata": {},
     "output_type": "execute_result"
    }
   ],
   "source": [
    "last_sale_per_store_item = df.reset_index().groupby(['store_id', 'item_id']).sale_date.max()\n",
    "last_sale_per_store_item[0:5]"
   ]
  },
  {
   "cell_type": "code",
   "execution_count": 30,
   "metadata": {},
   "outputs": [
    {
     "data": {
      "text/plain": [
       "<DatetimeArray>\n",
       "['2017-12-31 00:00:00+00:00']\n",
       "Length: 1, dtype: datetime64[ns, UTC]"
      ]
     },
     "execution_count": 30,
     "metadata": {},
     "output_type": "execute_result"
    }
   ],
   "source": [
    "# are these each unique\n",
    "last_sale_per_store_item.unique()"
   ]
  },
  {
   "cell_type": "markdown",
   "metadata": {},
   "source": [
    "<div class=\"alert alert-block alert-success\">\n",
    "Are the newest sale_date values unique?\n",
    "\n",
    "[x] Yes\n",
    "\n",
    "[] No\n",
    "</div>"
   ]
  },
  {
   "cell_type": "markdown",
   "metadata": {},
   "source": [
    "- On how many different days was each item sold at each store?"
   ]
  },
  {
   "cell_type": "code",
   "execution_count": 31,
   "metadata": {},
   "outputs": [
    {
     "data": {
      "text/plain": [
       "store_id  item_id\n",
       "1         1          1826\n",
       "          2          1826\n",
       "          3          1826\n",
       "          4          1826\n",
       "          5          1826\n",
       "Name: sale_date, dtype: int64"
      ]
     },
     "execution_count": 31,
     "metadata": {},
     "output_type": "execute_result"
    }
   ],
   "source": [
    "days_per_store_item = df.reset_index().groupby(['store_id', 'item_id']).sale_date.nunique()\n",
    "days_per_store_item[0:5]"
   ]
  },
  {
   "cell_type": "code",
   "execution_count": 32,
   "metadata": {},
   "outputs": [
    {
     "data": {
      "text/plain": [
       "array([1826])"
      ]
     },
     "execution_count": 32,
     "metadata": {},
     "output_type": "execute_result"
    }
   ],
   "source": [
    "days_per_store_item.unique()"
   ]
  },
  {
   "cell_type": "markdown",
   "metadata": {},
   "source": [
    "## Grouping by dates to aggregate values"
   ]
  },
  {
   "cell_type": "code",
   "execution_count": 33,
   "metadata": {},
   "outputs": [
    {
     "data": {
      "text/plain": [
       "sale_date\n",
       "2013-01-01 00:00:00+00:00    13696.0\n",
       "2013-01-02 00:00:00+00:00    13678.0\n",
       "2013-01-03 00:00:00+00:00    14488.0\n",
       "2013-01-04 00:00:00+00:00    15677.0\n",
       "2013-01-05 00:00:00+00:00    16237.0\n",
       "Name: sale_amount, dtype: float64"
      ]
     },
     "execution_count": 33,
     "metadata": {},
     "output_type": "execute_result"
    }
   ],
   "source": [
    "# quantity of items sold per day\n",
    "df.groupby('sale_date').sale_amount.sum().head()"
   ]
  },
  {
   "cell_type": "markdown",
   "metadata": {},
   "source": [
    "## Resampling\n",
    "- change the time window of focus"
   ]
  },
  {
   "cell_type": "markdown",
   "metadata": {},
   "source": [
    "#### Downsampling"
   ]
  },
  {
   "cell_type": "code",
   "execution_count": 34,
   "metadata": {},
   "outputs": [
    {
     "data": {
      "text/plain": [
       "sale_date\n",
       "2013-01-01 00:00:00+00:00    13696.0\n",
       "2013-01-01 12:00:00+00:00        NaN\n",
       "2013-01-02 00:00:00+00:00    13678.0\n",
       "2013-01-02 12:00:00+00:00        NaN\n",
       "2013-01-03 00:00:00+00:00    14488.0\n",
       "Freq: 12H, Name: sale_amount, dtype: float64"
      ]
     },
     "execution_count": 34,
     "metadata": {},
     "output_type": "execute_result"
    }
   ],
   "source": [
    "downsampling_example = df.groupby('sale_date').sale_amount.sum().asfreq('12H')\n",
    "downsampling_example.head()"
   ]
  },
  {
   "cell_type": "code",
   "execution_count": 35,
   "metadata": {},
   "outputs": [
    {
     "data": {
      "text/plain": [
       "sale_date\n",
       "2013-01-01 00:00:00+00:00    13696.0\n",
       "2013-01-01 12:00:00+00:00    13696.0\n",
       "2013-01-02 00:00:00+00:00    13678.0\n",
       "2013-01-02 12:00:00+00:00    13678.0\n",
       "2013-01-03 00:00:00+00:00    14488.0\n",
       "Freq: 12H, Name: sale_amount, dtype: float64"
      ]
     },
     "execution_count": 35,
     "metadata": {},
     "output_type": "execute_result"
    }
   ],
   "source": [
    "# .ffill \"forward fills\" nulls with last good value\n",
    "downsampling_example.ffill().head()"
   ]
  },
  {
   "cell_type": "markdown",
   "metadata": {},
   "source": [
    "<div class=\"alert alert-block alert-danger\">\n",
    "    <p>Do not do this &#x25BC, it drops data</p>\n",
    "</div>"
   ]
  },
  {
   "cell_type": "code",
   "execution_count": null,
   "metadata": {},
   "outputs": [],
   "source": [
    "# upsampling w/o using .resample is bad\n",
    "df.groupby('sale_date').sale_amount.sum().asfreq('W')"
   ]
  },
  {
   "cell_type": "code",
   "execution_count": 37,
   "metadata": {},
   "outputs": [
    {
     "data": {
      "text/plain": [
       "17291.0"
      ]
     },
     "execution_count": 37,
     "metadata": {},
     "output_type": "execute_result"
    }
   ],
   "source": [
    "# not the right answer\n",
    "df.loc['2013-01-06'].sale_amount.sum()"
   ]
  },
  {
   "cell_type": "markdown",
   "metadata": {},
   "source": [
    "- resample"
   ]
  },
  {
   "cell_type": "code",
   "execution_count": 39,
   "metadata": {},
   "outputs": [
    {
     "data": {
      "text/plain": [
       "sale_date\n",
       "2013-01-06 00:00:00+00:00     91067.0\n",
       "2013-01-13 00:00:00+00:00    103902.0\n",
       "2013-01-20 00:00:00+00:00    102950.0\n",
       "2013-01-27 00:00:00+00:00    103298.0\n",
       "2013-02-03 00:00:00+00:00    109027.0\n",
       "Freq: W-SUN, Name: sale_amount, dtype: float64"
      ]
     },
     "execution_count": 39,
     "metadata": {},
     "output_type": "execute_result"
    }
   ],
   "source": [
    "# .resample applies the agg func to all datapoints in the time frame to\n",
    "# produce the appropriate answer\n",
    "# by week - W\n",
    "df.sale_amount.resample('W').sum().head()"
   ]
  },
  {
   "cell_type": "code",
   "execution_count": 40,
   "metadata": {},
   "outputs": [
    {
     "data": {
      "text/plain": [
       "sale_date\n",
       "2013-01-31 00:00:00+00:00    454904.0\n",
       "2013-02-28 00:00:00+00:00    459417.0\n",
       "2013-03-31 00:00:00+00:00    617382.0\n",
       "2013-04-30 00:00:00+00:00    682274.0\n",
       "2013-05-31 00:00:00+00:00    763242.0\n",
       "Freq: M, Name: sale_amount, dtype: float64"
      ]
     },
     "execution_count": 40,
     "metadata": {},
     "output_type": "execute_result"
    }
   ],
   "source": [
    "# by month - M\n",
    "df.sale_amount.resample('M').sum().head()"
   ]
  },
  {
   "cell_type": "code",
   "execution_count": 41,
   "metadata": {},
   "outputs": [
    {
     "data": {
      "text/plain": [
       "sale_date\n",
       "2013-12-31 00:00:00+00:00     7941243.0\n",
       "2014-12-31 00:00:00+00:00     9135482.0\n",
       "2015-12-31 00:00:00+00:00     9536887.0\n",
       "2016-12-31 00:00:00+00:00    10357160.0\n",
       "2017-12-31 00:00:00+00:00    10733740.0\n",
       "Freq: A-DEC, Name: sale_amount, dtype: float64"
      ]
     },
     "execution_count": 41,
     "metadata": {},
     "output_type": "execute_result"
    }
   ],
   "source": [
    "# by year - Y\n",
    "df.sale_amount.resample('Y').sum()"
   ]
  },
  {
   "cell_type": "markdown",
   "metadata": {},
   "source": [
    "## Check for time gaps"
   ]
  },
  {
   "cell_type": "code",
   "execution_count": 44,
   "metadata": {},
   "outputs": [
    {
     "name": "stdout",
     "output_type": "stream",
     "text": [
      "Number of rows: 1826\n",
      "Number of timedeltas of a day 1826 days 00:00:00\n"
     ]
    }
   ],
   "source": [
    "print(f'Number of rows: {df.index.nunique()}')\n",
    "print(f'Number of timedeltas of a day {df.index.max() - df.index.min() + timedelta(days=1)}')"
   ]
  },
  {
   "cell_type": "markdown",
   "metadata": {},
   "source": [
    "## Handling nulls"
   ]
  },
  {
   "cell_type": "code",
   "execution_count": 45,
   "metadata": {},
   "outputs": [
    {
     "data": {
      "text/html": [
       "<div>\n",
       "<style scoped>\n",
       "    .dataframe tbody tr th:only-of-type {\n",
       "        vertical-align: middle;\n",
       "    }\n",
       "\n",
       "    .dataframe tbody tr th {\n",
       "        vertical-align: top;\n",
       "    }\n",
       "\n",
       "    .dataframe thead th {\n",
       "        text-align: right;\n",
       "    }\n",
       "</style>\n",
       "<table border=\"1\" class=\"dataframe\">\n",
       "  <thead>\n",
       "    <tr style=\"text-align: right;\">\n",
       "      <th></th>\n",
       "      <th>sale_amount</th>\n",
       "      <th>ffill</th>\n",
       "      <th>bfill</th>\n",
       "    </tr>\n",
       "    <tr>\n",
       "      <th>sale_date</th>\n",
       "      <th></th>\n",
       "      <th></th>\n",
       "      <th></th>\n",
       "    </tr>\n",
       "  </thead>\n",
       "  <tbody>\n",
       "    <tr>\n",
       "      <th>2013-01-01 00:00:00+00:00</th>\n",
       "      <td>13696.0</td>\n",
       "      <td>13696.0</td>\n",
       "      <td>13696.0</td>\n",
       "    </tr>\n",
       "    <tr>\n",
       "      <th>2013-01-01 12:00:00+00:00</th>\n",
       "      <td>NaN</td>\n",
       "      <td>13696.0</td>\n",
       "      <td>13678.0</td>\n",
       "    </tr>\n",
       "    <tr>\n",
       "      <th>2013-01-02 00:00:00+00:00</th>\n",
       "      <td>13678.0</td>\n",
       "      <td>13678.0</td>\n",
       "      <td>13678.0</td>\n",
       "    </tr>\n",
       "    <tr>\n",
       "      <th>2013-01-02 12:00:00+00:00</th>\n",
       "      <td>NaN</td>\n",
       "      <td>13678.0</td>\n",
       "      <td>14488.0</td>\n",
       "    </tr>\n",
       "    <tr>\n",
       "      <th>2013-01-03 00:00:00+00:00</th>\n",
       "      <td>14488.0</td>\n",
       "      <td>14488.0</td>\n",
       "      <td>14488.0</td>\n",
       "    </tr>\n",
       "  </tbody>\n",
       "</table>\n",
       "</div>"
      ],
      "text/plain": [
       "                           sale_amount    ffill    bfill\n",
       "sale_date                                               \n",
       "2013-01-01 00:00:00+00:00      13696.0  13696.0  13696.0\n",
       "2013-01-01 12:00:00+00:00          NaN  13696.0  13678.0\n",
       "2013-01-02 00:00:00+00:00      13678.0  13678.0  13678.0\n",
       "2013-01-02 12:00:00+00:00          NaN  13678.0  14488.0\n",
       "2013-01-03 00:00:00+00:00      14488.0  14488.0  14488.0"
      ]
     },
     "execution_count": 45,
     "metadata": {},
     "output_type": "execute_result"
    }
   ],
   "source": [
    "# In this example of downsampling, we have daily data and downsample to 12 hour frequency\n",
    "nan_example = df.groupby(\"sale_date\").sum().asfreq(\"12H\")[[\"sale_amount\"]]\n",
    "nan_example[\"ffill\"] = nan_example.sale_amount.ffill()\n",
    "nan_example[\"bfill\"] = nan_example.sale_amount.bfill()\n",
    "nan_example.head()"
   ]
  },
  {
   "cell_type": "code",
   "execution_count": null,
   "metadata": {},
   "outputs": [],
   "source": []
  },
  {
   "cell_type": "code",
   "execution_count": null,
   "metadata": {},
   "outputs": [],
   "source": []
  },
  {
   "cell_type": "code",
   "execution_count": null,
   "metadata": {},
   "outputs": [],
   "source": []
  },
  {
   "cell_type": "code",
   "execution_count": null,
   "metadata": {},
   "outputs": [],
   "source": []
  },
  {
   "cell_type": "code",
   "execution_count": null,
   "metadata": {},
   "outputs": [],
   "source": []
  },
  {
   "cell_type": "code",
   "execution_count": null,
   "metadata": {},
   "outputs": [],
   "source": []
  }
 ],
 "metadata": {
  "kernelspec": {
   "display_name": "Python 3",
   "language": "python",
   "name": "python3"
  },
  "language_info": {
   "codemirror_mode": {
    "name": "ipython",
    "version": 3
   },
   "file_extension": ".py",
   "mimetype": "text/x-python",
   "name": "python",
   "nbconvert_exporter": "python",
   "pygments_lexer": "ipython3",
   "version": "3.7.6"
  }
 },
 "nbformat": 4,
 "nbformat_minor": 4
}
