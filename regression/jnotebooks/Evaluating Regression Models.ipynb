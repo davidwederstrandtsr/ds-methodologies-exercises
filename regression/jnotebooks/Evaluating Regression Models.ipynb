{
 "cells": [
  {
   "cell_type": "code",
   "execution_count": 1,
   "metadata": {},
   "outputs": [
    {
     "data": {
      "text/html": [
       "<div>\n",
       "<style scoped>\n",
       "    .dataframe tbody tr th:only-of-type {\n",
       "        vertical-align: middle;\n",
       "    }\n",
       "\n",
       "    .dataframe tbody tr th {\n",
       "        vertical-align: top;\n",
       "    }\n",
       "\n",
       "    .dataframe thead th {\n",
       "        text-align: right;\n",
       "    }\n",
       "</style>\n",
       "<table border=\"1\" class=\"dataframe\">\n",
       "  <thead>\n",
       "    <tr style=\"text-align: right;\">\n",
       "      <th></th>\n",
       "      <th>x</th>\n",
       "      <th>y</th>\n",
       "    </tr>\n",
       "  </thead>\n",
       "  <tbody>\n",
       "    <tr>\n",
       "      <th>0</th>\n",
       "      <td>100</td>\n",
       "      <td>96</td>\n",
       "    </tr>\n",
       "    <tr>\n",
       "      <th>1</th>\n",
       "      <td>93</td>\n",
       "      <td>90</td>\n",
       "    </tr>\n",
       "    <tr>\n",
       "      <th>2</th>\n",
       "      <td>84</td>\n",
       "      <td>89</td>\n",
       "    </tr>\n",
       "  </tbody>\n",
       "</table>\n",
       "</div>"
      ],
      "text/plain": [
       "     x   y\n",
       "0  100  96\n",
       "1   93  90\n",
       "2   84  89"
      ]
     },
     "execution_count": 1,
     "metadata": {},
     "output_type": "execute_result"
    }
   ],
   "source": [
    "import pandas as pd\n",
    "import numpy as np\n",
    "import seaborn as sns\n",
    "import matplotlib.pyplot as plt\n",
    "%matplotlib inline\n",
    "\n",
    "from statsmodels.formula.api import ols\n",
    "\n",
    "\n",
    "# generate our student grade data\n",
    "df = pd.DataFrame(np.array([[100, 96], [93, 90], [84, 89], [80, 85], [76, 80], [70, 68], [79, 75]]), columns = ['x', 'y'])\n",
    "\n",
    "x = df['x']\n",
    "y = df['y']\n",
    "\n",
    "df.head(3)"
   ]
  },
  {
   "cell_type": "markdown",
   "metadata": {},
   "source": [
    "### Establish a Baseline"
   ]
  },
  {
   "cell_type": "code",
   "execution_count": 2,
   "metadata": {},
   "outputs": [],
   "source": [
    "plt.rc(\"axes.spines\", top=False, right=False)"
   ]
  },
  {
   "cell_type": "code",
   "execution_count": 3,
   "metadata": {},
   "outputs": [
    {
     "data": {
      "text/html": [
       "<div>\n",
       "<style scoped>\n",
       "    .dataframe tbody tr th:only-of-type {\n",
       "        vertical-align: middle;\n",
       "    }\n",
       "\n",
       "    .dataframe tbody tr th {\n",
       "        vertical-align: top;\n",
       "    }\n",
       "\n",
       "    .dataframe thead th {\n",
       "        text-align: right;\n",
       "    }\n",
       "</style>\n",
       "<table border=\"1\" class=\"dataframe\">\n",
       "  <thead>\n",
       "    <tr style=\"text-align: right;\">\n",
       "      <th></th>\n",
       "      <th>x</th>\n",
       "      <th>y</th>\n",
       "      <th>yhat_bl</th>\n",
       "    </tr>\n",
       "  </thead>\n",
       "  <tbody>\n",
       "    <tr>\n",
       "      <th>0</th>\n",
       "      <td>100</td>\n",
       "      <td>96</td>\n",
       "      <td>83.285714</td>\n",
       "    </tr>\n",
       "    <tr>\n",
       "      <th>1</th>\n",
       "      <td>93</td>\n",
       "      <td>90</td>\n",
       "      <td>83.285714</td>\n",
       "    </tr>\n",
       "    <tr>\n",
       "      <th>2</th>\n",
       "      <td>84</td>\n",
       "      <td>89</td>\n",
       "      <td>83.285714</td>\n",
       "    </tr>\n",
       "  </tbody>\n",
       "</table>\n",
       "</div>"
      ],
      "text/plain": [
       "     x   y    yhat_bl\n",
       "0  100  96  83.285714\n",
       "1   93  90  83.285714\n",
       "2   84  89  83.285714"
      ]
     },
     "execution_count": 3,
     "metadata": {},
     "output_type": "execute_result"
    }
   ],
   "source": [
    "# prediction\n",
    "df['yhat_bl'] = df['y'].mean()\n",
    "df.head(3)"
   ]
  },
  {
   "cell_type": "markdown",
   "metadata": {},
   "source": [
    "### Build a Simple Model"
   ]
  },
  {
   "cell_type": "code",
   "execution_count": 4,
   "metadata": {},
   "outputs": [
    {
     "data": {
      "text/html": [
       "<div>\n",
       "<style scoped>\n",
       "    .dataframe tbody tr th:only-of-type {\n",
       "        vertical-align: middle;\n",
       "    }\n",
       "\n",
       "    .dataframe tbody tr th {\n",
       "        vertical-align: top;\n",
       "    }\n",
       "\n",
       "    .dataframe thead th {\n",
       "        text-align: right;\n",
       "    }\n",
       "</style>\n",
       "<table border=\"1\" class=\"dataframe\">\n",
       "  <thead>\n",
       "    <tr style=\"text-align: right;\">\n",
       "      <th></th>\n",
       "      <th>x</th>\n",
       "      <th>y</th>\n",
       "      <th>yhat_bl</th>\n",
       "      <th>yhat</th>\n",
       "    </tr>\n",
       "  </thead>\n",
       "  <tbody>\n",
       "    <tr>\n",
       "      <th>0</th>\n",
       "      <td>100</td>\n",
       "      <td>96</td>\n",
       "      <td>83.285714</td>\n",
       "      <td>97.635214</td>\n",
       "    </tr>\n",
       "    <tr>\n",
       "      <th>1</th>\n",
       "      <td>93</td>\n",
       "      <td>90</td>\n",
       "      <td>83.285714</td>\n",
       "      <td>91.676524</td>\n",
       "    </tr>\n",
       "    <tr>\n",
       "      <th>2</th>\n",
       "      <td>84</td>\n",
       "      <td>89</td>\n",
       "      <td>83.285714</td>\n",
       "      <td>84.015350</td>\n",
       "    </tr>\n",
       "    <tr>\n",
       "      <th>3</th>\n",
       "      <td>80</td>\n",
       "      <td>85</td>\n",
       "      <td>83.285714</td>\n",
       "      <td>80.610384</td>\n",
       "    </tr>\n",
       "    <tr>\n",
       "      <th>4</th>\n",
       "      <td>76</td>\n",
       "      <td>80</td>\n",
       "      <td>83.285714</td>\n",
       "      <td>77.205418</td>\n",
       "    </tr>\n",
       "  </tbody>\n",
       "</table>\n",
       "</div>"
      ],
      "text/plain": [
       "     x   y    yhat_bl       yhat\n",
       "0  100  96  83.285714  97.635214\n",
       "1   93  90  83.285714  91.676524\n",
       "2   84  89  83.285714  84.015350\n",
       "3   80  85  83.285714  80.610384\n",
       "4   76  80  83.285714  77.205418"
      ]
     },
     "execution_count": 4,
     "metadata": {},
     "output_type": "execute_result"
    }
   ],
   "source": [
    "# generate parameters, i.e. create model\n",
    "ols_model = ols('y ~ x', data=df).fit()\n",
    "\n",
    "# compute predictions and add to original dataframe\n",
    "df['yhat'] = ols_model.predict(x)\n",
    "\n",
    "df.head()"
   ]
  },
  {
   "cell_type": "markdown",
   "metadata": {},
   "source": [
    "### Evaluate Part 1: RMSE"
   ]
  },
  {
   "cell_type": "markdown",
   "metadata": {},
   "source": [
    "Now we need to measure the performance of the baseline and the line created from our model. We need to determine if our model is \"good enough\". To determine this, we have to answer two questions.\n",
    "\n",
    "#### Manually Compute Evaluation Metrics.\n",
    "\n",
    "In this lesson, we will manually compute two common evaluation metric for regression models, the Mean Squared Error (MSE) and the Root Mean Squared Error (RMSE). To do so, we take the following steps:\n",
    "\n",
    "1. Compute the residual, or error, for each data point.\n",
    "2. Compute the SSE, Sum of Squared Errors, a.k.a. RSS, Residual Sum of Squares. This is simply squaring each of the errors computed in step one and summing them all together.\n",
    "3. Compute the MSE, Mean Squared Error. We arrive at this by dividing your SSE by the total number of data points, i.e. the average of your errors that have each been squared.\n",
    "4. Compute the RMSE, Root Mean Squared Error. Simply take the square root of the MSE.\n"
   ]
  },
  {
   "cell_type": "code",
   "execution_count": 5,
   "metadata": {},
   "outputs": [],
   "source": [
    "from scipy import stats\n",
    "from sklearn.metrics import mean_squared_error, r2_score, explained_variance_score\n",
    "\n",
    "from sklearn.linear_model import LinearRegression\n",
    "from sklearn.feature_selection import f_regression \n",
    "from math import sqrt\n",
    "import matplotlib.pyplot as plt\n",
    "%matplotlib inline\n",
    "import warnings\n",
    "warnings.filterwarnings('ignore')"
   ]
  },
  {
   "cell_type": "code",
   "execution_count": 8,
   "metadata": {},
   "outputs": [
    {
     "data": {
      "text/html": [
       "<div>\n",
       "<style scoped>\n",
       "    .dataframe tbody tr th:only-of-type {\n",
       "        vertical-align: middle;\n",
       "    }\n",
       "\n",
       "    .dataframe tbody tr th {\n",
       "        vertical-align: top;\n",
       "    }\n",
       "\n",
       "    .dataframe thead th {\n",
       "        text-align: right;\n",
       "    }\n",
       "</style>\n",
       "<table border=\"1\" class=\"dataframe\">\n",
       "  <thead>\n",
       "    <tr style=\"text-align: right;\">\n",
       "      <th></th>\n",
       "      <th>x</th>\n",
       "      <th>y</th>\n",
       "      <th>yhat_bl</th>\n",
       "      <th>yhat</th>\n",
       "      <th>residual</th>\n",
       "      <th>residual_bl</th>\n",
       "    </tr>\n",
       "  </thead>\n",
       "  <tbody>\n",
       "    <tr>\n",
       "      <th>0</th>\n",
       "      <td>100</td>\n",
       "      <td>96</td>\n",
       "      <td>83.285714</td>\n",
       "      <td>97.635214</td>\n",
       "      <td>1.635214</td>\n",
       "      <td>-12.714286</td>\n",
       "    </tr>\n",
       "    <tr>\n",
       "      <th>1</th>\n",
       "      <td>93</td>\n",
       "      <td>90</td>\n",
       "      <td>83.285714</td>\n",
       "      <td>91.676524</td>\n",
       "      <td>1.676524</td>\n",
       "      <td>-6.714286</td>\n",
       "    </tr>\n",
       "    <tr>\n",
       "      <th>2</th>\n",
       "      <td>84</td>\n",
       "      <td>89</td>\n",
       "      <td>83.285714</td>\n",
       "      <td>84.015350</td>\n",
       "      <td>-4.984650</td>\n",
       "      <td>-5.714286</td>\n",
       "    </tr>\n",
       "    <tr>\n",
       "      <th>3</th>\n",
       "      <td>80</td>\n",
       "      <td>85</td>\n",
       "      <td>83.285714</td>\n",
       "      <td>80.610384</td>\n",
       "      <td>-4.389616</td>\n",
       "      <td>-1.714286</td>\n",
       "    </tr>\n",
       "    <tr>\n",
       "      <th>4</th>\n",
       "      <td>76</td>\n",
       "      <td>80</td>\n",
       "      <td>83.285714</td>\n",
       "      <td>77.205418</td>\n",
       "      <td>-2.794582</td>\n",
       "      <td>3.285714</td>\n",
       "    </tr>\n",
       "  </tbody>\n",
       "</table>\n",
       "</div>"
      ],
      "text/plain": [
       "     x   y    yhat_bl       yhat  residual  residual_bl\n",
       "0  100  96  83.285714  97.635214  1.635214   -12.714286\n",
       "1   93  90  83.285714  91.676524  1.676524    -6.714286\n",
       "2   84  89  83.285714  84.015350 -4.984650    -5.714286\n",
       "3   80  85  83.285714  80.610384 -4.389616    -1.714286\n",
       "4   76  80  83.285714  77.205418 -2.794582     3.285714"
      ]
     },
     "execution_count": 8,
     "metadata": {},
     "output_type": "execute_result"
    }
   ],
   "source": [
    "# compute residuals\n",
    "df['residual'] = df['yhat'] - df['y']\n",
    "df['residual_bl'] = df['yhat_bl'] - df['y']\n",
    "df.head()"
   ]
  },
  {
   "cell_type": "code",
   "execution_count": null,
   "metadata": {},
   "outputs": [],
   "source": []
  },
  {
   "cell_type": "markdown",
   "metadata": {},
   "source": [
    "$$SSE = \\sum_{i=1}^{n}(\\hat{y}-y_{i})^2$$"
   ]
  },
  {
   "cell_type": "code",
   "execution_count": 10,
   "metadata": {},
   "outputs": [
    {
     "data": {
      "text/html": [
       "<div>\n",
       "<style scoped>\n",
       "    .dataframe tbody tr th:only-of-type {\n",
       "        vertical-align: middle;\n",
       "    }\n",
       "\n",
       "    .dataframe tbody tr th {\n",
       "        vertical-align: top;\n",
       "    }\n",
       "\n",
       "    .dataframe thead th {\n",
       "        text-align: right;\n",
       "    }\n",
       "</style>\n",
       "<table border=\"1\" class=\"dataframe\">\n",
       "  <thead>\n",
       "    <tr style=\"text-align: right;\">\n",
       "      <th></th>\n",
       "      <th>x</th>\n",
       "      <th>y</th>\n",
       "      <th>yhat_bl</th>\n",
       "      <th>yhat</th>\n",
       "      <th>residual</th>\n",
       "      <th>residual_bl</th>\n",
       "      <th>residual^2</th>\n",
       "      <th>residual_bl^2</th>\n",
       "    </tr>\n",
       "  </thead>\n",
       "  <tbody>\n",
       "    <tr>\n",
       "      <th>0</th>\n",
       "      <td>100</td>\n",
       "      <td>96</td>\n",
       "      <td>83.285714</td>\n",
       "      <td>97.635214</td>\n",
       "      <td>1.635214</td>\n",
       "      <td>-12.714286</td>\n",
       "      <td>2.673926</td>\n",
       "      <td>161.653061</td>\n",
       "    </tr>\n",
       "    <tr>\n",
       "      <th>1</th>\n",
       "      <td>93</td>\n",
       "      <td>90</td>\n",
       "      <td>83.285714</td>\n",
       "      <td>91.676524</td>\n",
       "      <td>1.676524</td>\n",
       "      <td>-6.714286</td>\n",
       "      <td>2.810732</td>\n",
       "      <td>45.081633</td>\n",
       "    </tr>\n",
       "    <tr>\n",
       "      <th>2</th>\n",
       "      <td>84</td>\n",
       "      <td>89</td>\n",
       "      <td>83.285714</td>\n",
       "      <td>84.015350</td>\n",
       "      <td>-4.984650</td>\n",
       "      <td>-5.714286</td>\n",
       "      <td>24.846737</td>\n",
       "      <td>32.653061</td>\n",
       "    </tr>\n",
       "  </tbody>\n",
       "</table>\n",
       "</div>"
      ],
      "text/plain": [
       "     x   y    yhat_bl       yhat  residual  residual_bl  residual^2  \\\n",
       "0  100  96  83.285714  97.635214  1.635214   -12.714286    2.673926   \n",
       "1   93  90  83.285714  91.676524  1.676524    -6.714286    2.810732   \n",
       "2   84  89  83.285714  84.015350 -4.984650    -5.714286   24.846737   \n",
       "\n",
       "   residual_bl^2  \n",
       "0     161.653061  \n",
       "1      45.081633  \n",
       "2      32.653061  "
      ]
     },
     "execution_count": 10,
     "metadata": {},
     "output_type": "execute_result"
    }
   ],
   "source": [
    "# square each residual value\n",
    "df['residual^2'] = df.residual ** 2\n",
    "\n",
    "df['residual_bl^2'] = df.residual_bl ** 2\n",
    "\n",
    "df.head(3)"
   ]
  },
  {
   "cell_type": "code",
   "execution_count": 12,
   "metadata": {},
   "outputs": [
    {
     "name": "stdout",
     "output_type": "stream",
     "text": [
      "SSE =  96.85259593679459\n",
      "SSE - baseline =  555.4285714285714\n"
     ]
    }
   ],
   "source": [
    "# SSE\n",
    "SSE = sum(df['residual^2'])\n",
    "SSE_baseline = sum(df['residual_bl^2'])\n",
    "\n",
    "print(\"SSE = \", SSE)\n",
    "print(\"SSE - baseline = \", SSE_baseline)"
   ]
  },
  {
   "cell_type": "markdown",
   "metadata": {},
   "source": [
    "$$MSE = \\frac{1}{n}\\sum_{i=1}^{n} (\\hat{y}-y_{i})^2$$"
   ]
  },
  {
   "cell_type": "code",
   "execution_count": 13,
   "metadata": {},
   "outputs": [
    {
     "name": "stdout",
     "output_type": "stream",
     "text": [
      "MSE =  13.836085133827797\n",
      "MSE baseline =  79.34693877551021\n"
     ]
    }
   ],
   "source": [
    "MSE = SSE/len(df)\n",
    "MSE_baseline = SSE_baseline/len(df)\n",
    "\n",
    "print(\"MSE = \", MSE)\n",
    "print(\"MSE baseline = \", MSE_baseline)"
   ]
  },
  {
   "cell_type": "markdown",
   "metadata": {},
   "source": [
    "$$RMSE = \\sqrt{\\frac{1}{n}\\sum_{i=1}^{n} (\\hat{y}-y_{i})^2}$$"
   ]
  },
  {
   "cell_type": "code",
   "execution_count": 14,
   "metadata": {},
   "outputs": [
    {
     "name": "stdout",
     "output_type": "stream",
     "text": [
      "RMSE =  3.7196888490608724\n",
      "RMSE baseline =  8.907689867497083\n"
     ]
    }
   ],
   "source": [
    "from math import sqrt\n",
    "RMSE = sqrt(MSE)\n",
    "RMSE_baseline = sqrt(MSE_baseline)\n",
    "\n",
    "print(\"RMSE = \", RMSE)\n",
    "print(\"RMSE baseline = \", RMSE_baseline)"
   ]
  },
  {
   "cell_type": "markdown",
   "metadata": {},
   "source": [
    "## Scikit-Learn\n",
    "- Use scikit-learn to compute evaluation metrics\n",
    "\n",
    "- Now, instead of manually computing the SSE, MSE, and RMSE, we will use sklearn.metrics to do so."
   ]
  },
  {
   "cell_type": "markdown",
   "metadata": {},
   "source": [
    "$$MSE = \\frac{1}{n}\\sum_{i=1}^{n} (\\hat{y}-y_{i})^2$$\n",
    "$$n*MSE = \\sum_{i=1}^{n} (\\hat{y}-y_{i})^2 = SSE$$\n",
    "$$\\therefore SSE = n*MSE$$"
   ]
  },
  {
   "cell_type": "markdown",
   "metadata": {},
   "source": [
    "### SSE\n",
    "- To compute the SSE or RSS, we must use the mean_squared_error function, as sklearn.metrics does not have a function for SSE directly. All we need to do is multiply the MSE by n, the number of data points."
   ]
  },
  {
   "cell_type": "code",
   "execution_count": 18,
   "metadata": {},
   "outputs": [
    {
     "name": "stdout",
     "output_type": "stream",
     "text": [
      "SSE manual == SSE sklearn:  True\n",
      "SSE manual - baseline == SSE sklearn - baseline:  True\n"
     ]
    }
   ],
   "source": [
    "SSE2 = mean_squared_error(df.y, df.yhat)*len(df)\n",
    "SSE2_baseline = mean_squared_error(df.y, df.yhat_bl)*len(df)\n",
    "\n",
    "print(\"SSE manual == SSE sklearn: \", SSE == SSE2) \n",
    "print(\"SSE manual - baseline == SSE sklearn - baseline: \", SSE_baseline == SSE2_baseline) "
   ]
  },
  {
   "cell_type": "markdown",
   "metadata": {},
   "source": [
    "### MSE\n",
    "- Now, instead of manually computing the MSE, we will use sklearn.metrics.mean_squared_error to compute it."
   ]
  },
  {
   "cell_type": "code",
   "execution_count": 17,
   "metadata": {},
   "outputs": [
    {
     "name": "stdout",
     "output_type": "stream",
     "text": [
      "MSE manual == MSE sklearn:  True\n",
      "MSE manual - baseline == MSE sklearn - baseline:  True\n"
     ]
    }
   ],
   "source": [
    "MSE2 = mean_squared_error(df.y, df.yhat)\n",
    "\n",
    "MSE2_baseline = mean_squared_error(df.y, df.yhat_bl)\n",
    "\n",
    "\n",
    "print(\"MSE manual == MSE sklearn: \", MSE == MSE2) \n",
    "print(\"MSE manual - baseline == MSE sklearn - baseline: \", MSE_baseline == MSE2_baseline)"
   ]
  },
  {
   "cell_type": "markdown",
   "metadata": {},
   "source": [
    "### RMSE\n",
    "- Now, instead of manually computing the RMSE, we will use sklearn.metrics.mean_squared_error to compute it.\n",
    "\n",
    "- We have to use mean_squared_error because there is not a function for RMSE. But that's easy because RMSE is only the square root of MSE."
   ]
  },
  {
   "cell_type": "code",
   "execution_count": 20,
   "metadata": {},
   "outputs": [
    {
     "name": "stdout",
     "output_type": "stream",
     "text": [
      "RMSE manual == RMSE skearn:  True\n",
      "RMSE manual - baseline == RMSE skearn - baseline:  True\n"
     ]
    }
   ],
   "source": [
    "RMSE2 = sqrt(mean_squared_error(df.y, df.yhat))\n",
    "RMSE2_baseline = sqrt(mean_squared_error(df.y, df.yhat_bl))\n",
    "\n",
    "print(\"RMSE manual == RMSE skearn: \", RMSE == RMSE2) \n",
    "print(\"RMSE manual - baseline == RMSE skearn - baseline: \", RMSE_baseline == RMSE2_baseline)"
   ]
  },
  {
   "cell_type": "code",
   "execution_count": 21,
   "metadata": {},
   "outputs": [
    {
     "name": "stdout",
     "output_type": "stream",
     "text": [
      "  metric  model_error\n",
      "0    SSE    96.852596\n",
      "1    MSE    13.836085\n",
      "2   RMSE     3.719689\n",
      "          metric  model_error\n",
      "0   SSE_baseline   555.428571\n",
      "1   MSE_baseline    79.346939\n",
      "2  RMSE_baseline     8.907690\n"
     ]
    }
   ],
   "source": [
    "df_eval = pd.DataFrame(np.array(['SSE','MSE','RMSE']), columns=['metric'])\n",
    "df_baseline_eval = pd.DataFrame(np.array(['SSE_baseline','MSE_baseline','RMSE_baseline']), columns=['metric'])\n",
    "\n",
    "df_eval['model_error'] = np.array([SSE, MSE, RMSE])\n",
    "df_baseline_eval['model_error'] = np.array([SSE_baseline, MSE_baseline, RMSE_baseline])\n",
    "\n",
    "print(df_eval)\n",
    "print(df_baseline_eval)"
   ]
  },
  {
   "cell_type": "markdown",
   "metadata": {},
   "source": [
    "### Draw Conclusions\n",
    "- Now, we will use our results to select the best model.\n",
    "\n",
    "- We will compare each baseline metric with the respective metrics of the linear regression model to see if our model performs better."
   ]
  },
  {
   "cell_type": "code",
   "execution_count": 22,
   "metadata": {},
   "outputs": [
    {
     "data": {
      "text/html": [
       "<div>\n",
       "<style scoped>\n",
       "    .dataframe tbody tr th:only-of-type {\n",
       "        vertical-align: middle;\n",
       "    }\n",
       "\n",
       "    .dataframe tbody tr th {\n",
       "        vertical-align: top;\n",
       "    }\n",
       "\n",
       "    .dataframe thead th {\n",
       "        text-align: right;\n",
       "    }\n",
       "</style>\n",
       "<table border=\"1\" class=\"dataframe\">\n",
       "  <thead>\n",
       "    <tr style=\"text-align: right;\">\n",
       "      <th></th>\n",
       "      <th>metric</th>\n",
       "      <th>model_error</th>\n",
       "      <th>error_delta</th>\n",
       "    </tr>\n",
       "  </thead>\n",
       "  <tbody>\n",
       "    <tr>\n",
       "      <th>0</th>\n",
       "      <td>SSE</td>\n",
       "      <td>96.852596</td>\n",
       "      <td>-458.575975</td>\n",
       "    </tr>\n",
       "    <tr>\n",
       "      <th>1</th>\n",
       "      <td>MSE</td>\n",
       "      <td>13.836085</td>\n",
       "      <td>-65.510854</td>\n",
       "    </tr>\n",
       "    <tr>\n",
       "      <th>2</th>\n",
       "      <td>RMSE</td>\n",
       "      <td>3.719689</td>\n",
       "      <td>-5.188001</td>\n",
       "    </tr>\n",
       "  </tbody>\n",
       "</table>\n",
       "</div>"
      ],
      "text/plain": [
       "  metric  model_error  error_delta\n",
       "0    SSE    96.852596  -458.575975\n",
       "1    MSE    13.836085   -65.510854\n",
       "2   RMSE     3.719689    -5.188001"
      ]
     },
     "execution_count": 22,
     "metadata": {},
     "output_type": "execute_result"
    }
   ],
   "source": [
    "df_eval['error_delta'] = df_eval.model_error - df_baseline_eval.model_error\n",
    "df_eval"
   ]
  },
  {
   "cell_type": "code",
   "execution_count": 23,
   "metadata": {},
   "outputs": [],
   "source": [
    "yhat = df.yhat"
   ]
  },
  {
   "cell_type": "markdown",
   "metadata": {},
   "source": [
    "## Evaluate Part 2: Model Significance"
   ]
  },
  {
   "cell_type": "markdown",
   "metadata": {},
   "source": [
    "### Scikit-Learn\n",
    "- Now we will compute R^2 using sklearn.metrics.explained_variance_scoore, which, as your remember, the coefficient of determination, R^2 is essentially the explained variance by its basic definition.\n",
    "\n",
    "- You can also get the explained variance, or R^2 by using statsmodels.ols"
   ]
  },
  {
   "cell_type": "code",
   "execution_count": 24,
   "metadata": {},
   "outputs": [
    {
     "name": "stdout",
     "output_type": "stream",
     "text": [
      "R-squared =  0.826\n"
     ]
    }
   ],
   "source": [
    "# statsmodels.ols\n",
    "\n",
    "r2 = ols_model.rsquared\n",
    "print('R-squared = ', round(r2,3))"
   ]
  },
  {
   "cell_type": "code",
   "execution_count": 25,
   "metadata": {},
   "outputs": [
    {
     "name": "stdout",
     "output_type": "stream",
     "text": [
      "Explained Variance =  0.826\n"
     ]
    }
   ],
   "source": [
    "# sklearn.metrics.explained_variance_score\n",
    "\n",
    "evs = explained_variance_score(df.y, df.yhat)\n",
    "print('Explained Variance = ', round(evs,3))"
   ]
  },
  {
   "cell_type": "code",
   "execution_count": 27,
   "metadata": {},
   "outputs": [
    {
     "data": {
      "text/html": [
       "<table class=\"simpletable\">\n",
       "<caption>OLS Regression Results</caption>\n",
       "<tr>\n",
       "  <th>Dep. Variable:</th>            <td>y</td>        <th>  R-squared:         </th> <td>   0.826</td>\n",
       "</tr>\n",
       "<tr>\n",
       "  <th>Model:</th>                   <td>OLS</td>       <th>  Adj. R-squared:    </th> <td>   0.791</td>\n",
       "</tr>\n",
       "<tr>\n",
       "  <th>Method:</th>             <td>Least Squares</td>  <th>  F-statistic:       </th> <td>   23.67</td>\n",
       "</tr>\n",
       "<tr>\n",
       "  <th>Date:</th>             <td>Thu, 02 Apr 2020</td> <th>  Prob (F-statistic):</th>  <td>0.00461</td>\n",
       "</tr>\n",
       "<tr>\n",
       "  <th>Time:</th>                 <td>14:51:09</td>     <th>  Log-Likelihood:    </th> <td> -19.128</td>\n",
       "</tr>\n",
       "<tr>\n",
       "  <th>No. Observations:</th>      <td>     7</td>      <th>  AIC:               </th> <td>   42.26</td>\n",
       "</tr>\n",
       "<tr>\n",
       "  <th>Df Residuals:</th>          <td>     5</td>      <th>  BIC:               </th> <td>   42.15</td>\n",
       "</tr>\n",
       "<tr>\n",
       "  <th>Df Model:</th>              <td>     1</td>      <th>                     </th>     <td> </td>   \n",
       "</tr>\n",
       "<tr>\n",
       "  <th>Covariance Type:</th>      <td>nonrobust</td>    <th>                     </th>     <td> </td>   \n",
       "</tr>\n",
       "</table>\n",
       "<table class=\"simpletable\">\n",
       "<tr>\n",
       "      <td></td>         <th>coef</th>     <th>std err</th>      <th>t</th>      <th>P>|t|</th>  <th>[0.025</th>    <th>0.975]</th>  \n",
       "</tr>\n",
       "<tr>\n",
       "  <th>Intercept</th> <td>   12.5111</td> <td>   14.641</td> <td>    0.855</td> <td> 0.432</td> <td>  -25.124</td> <td>   50.146</td>\n",
       "</tr>\n",
       "<tr>\n",
       "  <th>x</th>         <td>    0.8512</td> <td>    0.175</td> <td>    4.866</td> <td> 0.005</td> <td>    0.402</td> <td>    1.301</td>\n",
       "</tr>\n",
       "</table>\n",
       "<table class=\"simpletable\">\n",
       "<tr>\n",
       "  <th>Omnibus:</th>       <td>   nan</td> <th>  Durbin-Watson:     </th> <td>   0.983</td>\n",
       "</tr>\n",
       "<tr>\n",
       "  <th>Prob(Omnibus):</th> <td>   nan</td> <th>  Jarque-Bera (JB):  </th> <td>   0.776</td>\n",
       "</tr>\n",
       "<tr>\n",
       "  <th>Skew:</th>          <td> 0.124</td> <th>  Prob(JB):          </th> <td>   0.678</td>\n",
       "</tr>\n",
       "<tr>\n",
       "  <th>Kurtosis:</th>      <td> 1.388</td> <th>  Cond. No.          </th> <td>    737.</td>\n",
       "</tr>\n",
       "</table><br/><br/>Warnings:<br/>[1] Standard Errors assume that the covariance matrix of the errors is correctly specified."
      ],
      "text/plain": [
       "<class 'statsmodels.iolib.summary.Summary'>\n",
       "\"\"\"\n",
       "                            OLS Regression Results                            \n",
       "==============================================================================\n",
       "Dep. Variable:                      y   R-squared:                       0.826\n",
       "Model:                            OLS   Adj. R-squared:                  0.791\n",
       "Method:                 Least Squares   F-statistic:                     23.67\n",
       "Date:                Thu, 02 Apr 2020   Prob (F-statistic):            0.00461\n",
       "Time:                        14:51:09   Log-Likelihood:                -19.128\n",
       "No. Observations:                   7   AIC:                             42.26\n",
       "Df Residuals:                       5   BIC:                             42.15\n",
       "Df Model:                           1                                         \n",
       "Covariance Type:            nonrobust                                         \n",
       "==============================================================================\n",
       "                 coef    std err          t      P>|t|      [0.025      0.975]\n",
       "------------------------------------------------------------------------------\n",
       "Intercept     12.5111     14.641      0.855      0.432     -25.124      50.146\n",
       "x              0.8512      0.175      4.866      0.005       0.402       1.301\n",
       "==============================================================================\n",
       "Omnibus:                          nan   Durbin-Watson:                   0.983\n",
       "Prob(Omnibus):                    nan   Jarque-Bera (JB):                0.776\n",
       "Skew:                           0.124   Prob(JB):                        0.678\n",
       "Kurtosis:                       1.388   Cond. No.                         737.\n",
       "==============================================================================\n",
       "\n",
       "Warnings:\n",
       "[1] Standard Errors assume that the covariance matrix of the errors is correctly specified.\n",
       "\"\"\""
      ]
     },
     "execution_count": 27,
     "metadata": {},
     "output_type": "execute_result"
    }
   ],
   "source": [
    "# we care about R-squared and Prob (F-statistic):\n",
    "ols_model.summary()"
   ]
  },
  {
   "cell_type": "markdown",
   "metadata": {},
   "source": [
    "## Draw Conclusions\n",
    "We will now compute the p-value to determine if our test is significant, i.e. can we trust that the explained variance means what we think it means? If we have a high \n",
    "R\n",
    "2\n",
    ", does it really mean that there is correlation? If we have only two datapoints, then no! And our p-value should indicate that by giving us a high value. With 2 data points, we should have a VERY high probability of seeing an \n",
    "R\n",
    "2\n",
    " of 1, but that does not indicate that the two variables are correlated."
   ]
  },
  {
   "cell_type": "code",
   "execution_count": 28,
   "metadata": {},
   "outputs": [
    {
     "name": "stdout",
     "output_type": "stream",
     "text": [
      "p-value for model significance =  0.0046\n"
     ]
    }
   ],
   "source": [
    "f_pval = ols_model.f_pvalue\n",
    "\n",
    "print(\"p-value for model significance = \", round(f_pval,4))"
   ]
  },
  {
   "cell_type": "markdown",
   "metadata": {},
   "source": [
    "- If less than 0.05, you're OK => conclude that your regression model fits the data better than the model with no independent variables, meaning the independent variables in your model improve the fit.\n",
    "- If greater than 0.05, it's probably better to stop using this set of features."
   ]
  },
  {
   "cell_type": "code",
   "execution_count": null,
   "metadata": {},
   "outputs": [],
   "source": []
  },
  {
   "cell_type": "markdown",
   "metadata": {},
   "source": [
    "## Evaluate Part 3: Feature Significance"
   ]
  },
  {
   "cell_type": "markdown",
   "metadata": {},
   "source": [
    "### T-test\n",
    "#### The t-test for feature significance\n",
    "\n",
    "- The null hypothesis states that the model without this variable fits the data as well as your model. (Significance > 0.05)\n",
    "\n",
    "- The alternative hypothesis says that your model fits the data better with that independent variable than the model without that variable (Significance F <= 0.05)"
   ]
  },
  {
   "cell_type": "code",
   "execution_count": 29,
   "metadata": {},
   "outputs": [
    {
     "data": {
      "text/html": [
       "<table class=\"simpletable\">\n",
       "<caption>OLS Regression Results</caption>\n",
       "<tr>\n",
       "  <th>Dep. Variable:</th>            <td>y</td>        <th>  R-squared:         </th> <td>   0.826</td>\n",
       "</tr>\n",
       "<tr>\n",
       "  <th>Model:</th>                   <td>OLS</td>       <th>  Adj. R-squared:    </th> <td>   0.791</td>\n",
       "</tr>\n",
       "<tr>\n",
       "  <th>Method:</th>             <td>Least Squares</td>  <th>  F-statistic:       </th> <td>   23.67</td>\n",
       "</tr>\n",
       "<tr>\n",
       "  <th>Date:</th>             <td>Thu, 02 Apr 2020</td> <th>  Prob (F-statistic):</th>  <td>0.00461</td>\n",
       "</tr>\n",
       "<tr>\n",
       "  <th>Time:</th>                 <td>14:55:20</td>     <th>  Log-Likelihood:    </th> <td> -19.128</td>\n",
       "</tr>\n",
       "<tr>\n",
       "  <th>No. Observations:</th>      <td>     7</td>      <th>  AIC:               </th> <td>   42.26</td>\n",
       "</tr>\n",
       "<tr>\n",
       "  <th>Df Residuals:</th>          <td>     5</td>      <th>  BIC:               </th> <td>   42.15</td>\n",
       "</tr>\n",
       "<tr>\n",
       "  <th>Df Model:</th>              <td>     1</td>      <th>                     </th>     <td> </td>   \n",
       "</tr>\n",
       "<tr>\n",
       "  <th>Covariance Type:</th>      <td>nonrobust</td>    <th>                     </th>     <td> </td>   \n",
       "</tr>\n",
       "</table>\n",
       "<table class=\"simpletable\">\n",
       "<tr>\n",
       "      <td></td>         <th>coef</th>     <th>std err</th>      <th>t</th>      <th>P>|t|</th>  <th>[0.025</th>    <th>0.975]</th>  \n",
       "</tr>\n",
       "<tr>\n",
       "  <th>Intercept</th> <td>   12.5111</td> <td>   14.641</td> <td>    0.855</td> <td> 0.432</td> <td>  -25.124</td> <td>   50.146</td>\n",
       "</tr>\n",
       "<tr>\n",
       "  <th>x</th>         <td>    0.8512</td> <td>    0.175</td> <td>    4.866</td> <td> 0.005</td> <td>    0.402</td> <td>    1.301</td>\n",
       "</tr>\n",
       "</table>\n",
       "<table class=\"simpletable\">\n",
       "<tr>\n",
       "  <th>Omnibus:</th>       <td>   nan</td> <th>  Durbin-Watson:     </th> <td>   0.983</td>\n",
       "</tr>\n",
       "<tr>\n",
       "  <th>Prob(Omnibus):</th> <td>   nan</td> <th>  Jarque-Bera (JB):  </th> <td>   0.776</td>\n",
       "</tr>\n",
       "<tr>\n",
       "  <th>Skew:</th>          <td> 0.124</td> <th>  Prob(JB):          </th> <td>   0.678</td>\n",
       "</tr>\n",
       "<tr>\n",
       "  <th>Kurtosis:</th>      <td> 1.388</td> <th>  Cond. No.          </th> <td>    737.</td>\n",
       "</tr>\n",
       "</table><br/><br/>Warnings:<br/>[1] Standard Errors assume that the covariance matrix of the errors is correctly specified."
      ],
      "text/plain": [
       "<class 'statsmodels.iolib.summary.Summary'>\n",
       "\"\"\"\n",
       "                            OLS Regression Results                            \n",
       "==============================================================================\n",
       "Dep. Variable:                      y   R-squared:                       0.826\n",
       "Model:                            OLS   Adj. R-squared:                  0.791\n",
       "Method:                 Least Squares   F-statistic:                     23.67\n",
       "Date:                Thu, 02 Apr 2020   Prob (F-statistic):            0.00461\n",
       "Time:                        14:55:20   Log-Likelihood:                -19.128\n",
       "No. Observations:                   7   AIC:                             42.26\n",
       "Df Residuals:                       5   BIC:                             42.15\n",
       "Df Model:                           1                                         \n",
       "Covariance Type:            nonrobust                                         \n",
       "==============================================================================\n",
       "                 coef    std err          t      P>|t|      [0.025      0.975]\n",
       "------------------------------------------------------------------------------\n",
       "Intercept     12.5111     14.641      0.855      0.432     -25.124      50.146\n",
       "x              0.8512      0.175      4.866      0.005       0.402       1.301\n",
       "==============================================================================\n",
       "Omnibus:                          nan   Durbin-Watson:                   0.983\n",
       "Prob(Omnibus):                    nan   Jarque-Bera (JB):                0.776\n",
       "Skew:                           0.124   Prob(JB):                        0.678\n",
       "Kurtosis:                       1.388   Cond. No.                         737.\n",
       "==============================================================================\n",
       "\n",
       "Warnings:\n",
       "[1] Standard Errors assume that the covariance matrix of the errors is correctly specified.\n",
       "\"\"\""
      ]
     },
     "execution_count": 29,
     "metadata": {},
     "output_type": "execute_result"
    }
   ],
   "source": [
    "ols_model.summary()"
   ]
  },
  {
   "cell_type": "code",
   "execution_count": null,
   "metadata": {},
   "outputs": [],
   "source": []
  },
  {
   "cell_type": "code",
   "execution_count": null,
   "metadata": {},
   "outputs": [],
   "source": []
  }
 ],
 "metadata": {
  "kernelspec": {
   "display_name": "Python 3",
   "language": "python",
   "name": "python3"
  },
  "language_info": {
   "codemirror_mode": {
    "name": "ipython",
    "version": 3
   },
   "file_extension": ".py",
   "mimetype": "text/x-python",
   "name": "python",
   "nbconvert_exporter": "python",
   "pygments_lexer": "ipython3",
   "version": "3.7.6"
  }
 },
 "nbformat": 4,
 "nbformat_minor": 4
}
